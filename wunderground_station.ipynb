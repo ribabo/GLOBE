{
  "nbformat": 4,
  "nbformat_minor": 0,
  "metadata": {
    "colab": {
      "name": "wunderground_station",
      "provenance": [],
      "collapsed_sections": []
    },
    "kernelspec": {
      "name": "python3",
      "display_name": "Python 3"
    },
    "language_info": {
      "name": "python"
    }
  },
  "cells": [
    {
      "cell_type": "markdown",
      "source": [
        "Početak 2020-02-18"
      ],
      "metadata": {
        "id": "7SFa_AzXHS1I"
      }
    },
    {
      "cell_type": "code",
      "execution_count": 16,
      "metadata": {
        "id": "X_21rLZoZaNm"
      },
      "outputs": [],
      "source": [
        "import pandas as pd\n",
        "from pandas import DataFrame as df\n",
        "from google.colab import files\n",
        "import datetime\n",
        "import strftime"
      ]
    },
    {
      "cell_type": "code",
      "source": [
        "start_date=\"2021-04-20\"\n",
        "end_date=\"2021-04-21\"\n",
        "wunderground_station_id=\"IPTUJ11\"\n",
        "station_id=\"DUDU1234\""
      ],
      "metadata": {
        "id": "X1beVWcOahBV"
      },
      "execution_count": 2,
      "outputs": []
    },
    {
      "cell_type": "code",
      "source": [
        "range_of_dates=pd.date_range(start=start_date, end=end_date)"
      ],
      "metadata": {
        "id": "KX9NHCXqbzGS"
      },
      "execution_count": 3,
      "outputs": []
    },
    {
      "cell_type": "code",
      "source": [
        "range_of_dates=list(map(lambda x: str(x)[:10],range_of_dates))"
      ],
      "metadata": {
        "id": "7nYPZEUgeZCa"
      },
      "execution_count": 4,
      "outputs": []
    },
    {
      "cell_type": "code",
      "source": [
        "print(range_of_dates)"
      ],
      "metadata": {
        "colab": {
          "base_uri": "https://localhost:8080/"
        },
        "id": "IC_2lD04cTrQ",
        "outputId": "c67767bb-0319-4cc1-88dd-b15db1a0825a"
      },
      "execution_count": 5,
      "outputs": [
        {
          "output_type": "stream",
          "name": "stdout",
          "text": [
            "['2021-04-20', '2021-04-21']\n"
          ]
        }
      ]
    },
    {
      "cell_type": "code",
      "source": [
        "for measurement_date in range_of_dates:\n",
        "\n",
        "  url=f\"https://www.wunderground.com/dashboard/pws/{wunderground_station_id}/table/{measurement_date}/{measurement_date}/daily\"\n",
        "  dfs = pd.read_html(url,match=\"Precip. Rate.\")\n",
        "  data = pd.concat(dfs)\n",
        "  data.dropna(inplace = True)\n",
        "  data.to_csv(f\"{wunderground_station_id}_{measurement_date}\")"
      ],
      "metadata": {
        "id": "PfDUIkPLaVOg"
      },
      "execution_count": 26,
      "outputs": []
    },
    {
      "cell_type": "code",
      "source": [
        "  data = pd.concat(dfs)\n",
        "  data.dropna(inplace = True)\n",
        "  data.to_csv(f\"{wunderground_station_id}_{measurement_date}\")"
      ],
      "metadata": {
        "id": "JeAvieiQFTWC"
      },
      "execution_count": 9,
      "outputs": []
    },
    {
      "cell_type": "code",
      "source": [
        "data=data.replace(to_replace=r'°F', value='', regex=True)\n",
        "data=data.replace(to_replace=r'°%', value='', regex=True)\n",
        "data=data.replace(to_replace=r'°in', value='', regex=True)\n",
        "data=data[['Time', 'Temperature', 'Dew Point', 'Humidity', 'Pressure', 'Precip. Accum.']]\n",
        "data['Temperature']=data['Temperature'].map(lambda x: ((float(x)-32) * 5)/9)\n",
        "data['Dew Point']=data['Dew Point'].map(lambda x: ((float(x)-32) * 5)/9)\n",
        "data['Pressure']=data['Pressure'].map(lambda x: float(x)*33.8639)\n",
        "data['Precip. Accum.']=data['Precip. Accum.'].map(lambda x: float(x)*25.4)\n",
        "data['Time'] = pd.to_datetime(data['Time'], format='%I:%M %p').dt.strftime('%H:%M')\n",
        "data"
      ],
      "metadata": {
        "colab": {
          "base_uri": "https://localhost:8080/",
          "height": 424
        },
        "id": "n5inc_8QAJuT",
        "outputId": "4658ac5a-c62d-4a5a-cdde-a59abdc8173f"
      },
      "execution_count": 27,
      "outputs": [
        {
          "output_type": "execute_result",
          "data": {
            "text/plain": [
              "      Time  Temperature  Dew Point Humidity     Pressure  Precip. Accum.\n",
              "1    00:04     7.277778   6.000000      91   1009.482859           0.000\n",
              "2    00:05     7.277778   6.000000      91   1009.482859           0.000\n",
              "3    00:14     7.055556   5.833333      92   1009.482859           0.000\n",
              "4    00:17     7.000000   5.777778      92   1009.482859           0.000\n",
              "5    00:24     6.777778   5.611111      92   1009.482859           0.000\n",
              "..     ...          ...        ...      ...          ...             ...\n",
              "229  23:31    11.222222   4.944444      65   1009.482859           0.254\n",
              "230  23:39    10.944444   4.722222      65   1009.482859           0.254\n",
              "231  23:43    10.833333   4.833333      66   1009.482859           0.254\n",
              "232  23:54    10.833333   4.777778      66   1009.482859           0.254\n",
              "233  23:55    10.777778   4.777778      67   1009.482859           0.254\n",
              "\n",
              "[228 rows x 6 columns]"
            ],
            "text/html": [
              "\n",
              "  <div id=\"df-57b76e54-51fe-43dd-b29a-3f1527e74160\">\n",
              "    <div class=\"colab-df-container\">\n",
              "      <div>\n",
              "<style scoped>\n",
              "    .dataframe tbody tr th:only-of-type {\n",
              "        vertical-align: middle;\n",
              "    }\n",
              "\n",
              "    .dataframe tbody tr th {\n",
              "        vertical-align: top;\n",
              "    }\n",
              "\n",
              "    .dataframe thead th {\n",
              "        text-align: right;\n",
              "    }\n",
              "</style>\n",
              "<table border=\"1\" class=\"dataframe\">\n",
              "  <thead>\n",
              "    <tr style=\"text-align: right;\">\n",
              "      <th></th>\n",
              "      <th>Time</th>\n",
              "      <th>Temperature</th>\n",
              "      <th>Dew Point</th>\n",
              "      <th>Humidity</th>\n",
              "      <th>Pressure</th>\n",
              "      <th>Precip. Accum.</th>\n",
              "    </tr>\n",
              "  </thead>\n",
              "  <tbody>\n",
              "    <tr>\n",
              "      <th>1</th>\n",
              "      <td>00:04</td>\n",
              "      <td>7.277778</td>\n",
              "      <td>6.000000</td>\n",
              "      <td>91</td>\n",
              "      <td>1009.482859</td>\n",
              "      <td>0.000</td>\n",
              "    </tr>\n",
              "    <tr>\n",
              "      <th>2</th>\n",
              "      <td>00:05</td>\n",
              "      <td>7.277778</td>\n",
              "      <td>6.000000</td>\n",
              "      <td>91</td>\n",
              "      <td>1009.482859</td>\n",
              "      <td>0.000</td>\n",
              "    </tr>\n",
              "    <tr>\n",
              "      <th>3</th>\n",
              "      <td>00:14</td>\n",
              "      <td>7.055556</td>\n",
              "      <td>5.833333</td>\n",
              "      <td>92</td>\n",
              "      <td>1009.482859</td>\n",
              "      <td>0.000</td>\n",
              "    </tr>\n",
              "    <tr>\n",
              "      <th>4</th>\n",
              "      <td>00:17</td>\n",
              "      <td>7.000000</td>\n",
              "      <td>5.777778</td>\n",
              "      <td>92</td>\n",
              "      <td>1009.482859</td>\n",
              "      <td>0.000</td>\n",
              "    </tr>\n",
              "    <tr>\n",
              "      <th>5</th>\n",
              "      <td>00:24</td>\n",
              "      <td>6.777778</td>\n",
              "      <td>5.611111</td>\n",
              "      <td>92</td>\n",
              "      <td>1009.482859</td>\n",
              "      <td>0.000</td>\n",
              "    </tr>\n",
              "    <tr>\n",
              "      <th>...</th>\n",
              "      <td>...</td>\n",
              "      <td>...</td>\n",
              "      <td>...</td>\n",
              "      <td>...</td>\n",
              "      <td>...</td>\n",
              "      <td>...</td>\n",
              "    </tr>\n",
              "    <tr>\n",
              "      <th>229</th>\n",
              "      <td>23:31</td>\n",
              "      <td>11.222222</td>\n",
              "      <td>4.944444</td>\n",
              "      <td>65</td>\n",
              "      <td>1009.482859</td>\n",
              "      <td>0.254</td>\n",
              "    </tr>\n",
              "    <tr>\n",
              "      <th>230</th>\n",
              "      <td>23:39</td>\n",
              "      <td>10.944444</td>\n",
              "      <td>4.722222</td>\n",
              "      <td>65</td>\n",
              "      <td>1009.482859</td>\n",
              "      <td>0.254</td>\n",
              "    </tr>\n",
              "    <tr>\n",
              "      <th>231</th>\n",
              "      <td>23:43</td>\n",
              "      <td>10.833333</td>\n",
              "      <td>4.833333</td>\n",
              "      <td>66</td>\n",
              "      <td>1009.482859</td>\n",
              "      <td>0.254</td>\n",
              "    </tr>\n",
              "    <tr>\n",
              "      <th>232</th>\n",
              "      <td>23:54</td>\n",
              "      <td>10.833333</td>\n",
              "      <td>4.777778</td>\n",
              "      <td>66</td>\n",
              "      <td>1009.482859</td>\n",
              "      <td>0.254</td>\n",
              "    </tr>\n",
              "    <tr>\n",
              "      <th>233</th>\n",
              "      <td>23:55</td>\n",
              "      <td>10.777778</td>\n",
              "      <td>4.777778</td>\n",
              "      <td>67</td>\n",
              "      <td>1009.482859</td>\n",
              "      <td>0.254</td>\n",
              "    </tr>\n",
              "  </tbody>\n",
              "</table>\n",
              "<p>228 rows × 6 columns</p>\n",
              "</div>\n",
              "      <button class=\"colab-df-convert\" onclick=\"convertToInteractive('df-57b76e54-51fe-43dd-b29a-3f1527e74160')\"\n",
              "              title=\"Convert this dataframe to an interactive table.\"\n",
              "              style=\"display:none;\">\n",
              "        \n",
              "  <svg xmlns=\"http://www.w3.org/2000/svg\" height=\"24px\"viewBox=\"0 0 24 24\"\n",
              "       width=\"24px\">\n",
              "    <path d=\"M0 0h24v24H0V0z\" fill=\"none\"/>\n",
              "    <path d=\"M18.56 5.44l.94 2.06.94-2.06 2.06-.94-2.06-.94-.94-2.06-.94 2.06-2.06.94zm-11 1L8.5 8.5l.94-2.06 2.06-.94-2.06-.94L8.5 2.5l-.94 2.06-2.06.94zm10 10l.94 2.06.94-2.06 2.06-.94-2.06-.94-.94-2.06-.94 2.06-2.06.94z\"/><path d=\"M17.41 7.96l-1.37-1.37c-.4-.4-.92-.59-1.43-.59-.52 0-1.04.2-1.43.59L10.3 9.45l-7.72 7.72c-.78.78-.78 2.05 0 2.83L4 21.41c.39.39.9.59 1.41.59.51 0 1.02-.2 1.41-.59l7.78-7.78 2.81-2.81c.8-.78.8-2.07 0-2.86zM5.41 20L4 18.59l7.72-7.72 1.47 1.35L5.41 20z\"/>\n",
              "  </svg>\n",
              "      </button>\n",
              "      \n",
              "  <style>\n",
              "    .colab-df-container {\n",
              "      display:flex;\n",
              "      flex-wrap:wrap;\n",
              "      gap: 12px;\n",
              "    }\n",
              "\n",
              "    .colab-df-convert {\n",
              "      background-color: #E8F0FE;\n",
              "      border: none;\n",
              "      border-radius: 50%;\n",
              "      cursor: pointer;\n",
              "      display: none;\n",
              "      fill: #1967D2;\n",
              "      height: 32px;\n",
              "      padding: 0 0 0 0;\n",
              "      width: 32px;\n",
              "    }\n",
              "\n",
              "    .colab-df-convert:hover {\n",
              "      background-color: #E2EBFA;\n",
              "      box-shadow: 0px 1px 2px rgba(60, 64, 67, 0.3), 0px 1px 3px 1px rgba(60, 64, 67, 0.15);\n",
              "      fill: #174EA6;\n",
              "    }\n",
              "\n",
              "    [theme=dark] .colab-df-convert {\n",
              "      background-color: #3B4455;\n",
              "      fill: #D2E3FC;\n",
              "    }\n",
              "\n",
              "    [theme=dark] .colab-df-convert:hover {\n",
              "      background-color: #434B5C;\n",
              "      box-shadow: 0px 1px 3px 1px rgba(0, 0, 0, 0.15);\n",
              "      filter: drop-shadow(0px 1px 2px rgba(0, 0, 0, 0.3));\n",
              "      fill: #FFFFFF;\n",
              "    }\n",
              "  </style>\n",
              "\n",
              "      <script>\n",
              "        const buttonEl =\n",
              "          document.querySelector('#df-57b76e54-51fe-43dd-b29a-3f1527e74160 button.colab-df-convert');\n",
              "        buttonEl.style.display =\n",
              "          google.colab.kernel.accessAllowed ? 'block' : 'none';\n",
              "\n",
              "        async function convertToInteractive(key) {\n",
              "          const element = document.querySelector('#df-57b76e54-51fe-43dd-b29a-3f1527e74160');\n",
              "          const dataTable =\n",
              "            await google.colab.kernel.invokeFunction('convertToInteractive',\n",
              "                                                     [key], {});\n",
              "          if (!dataTable) return;\n",
              "\n",
              "          const docLinkHtml = 'Like what you see? Visit the ' +\n",
              "            '<a target=\"_blank\" href=https://colab.research.google.com/notebooks/data_table.ipynb>data table notebook</a>'\n",
              "            + ' to learn more about interactive tables.';\n",
              "          element.innerHTML = '';\n",
              "          dataTable['output_type'] = 'display_data';\n",
              "          await google.colab.output.renderOutput(dataTable, element);\n",
              "          const docLink = document.createElement('div');\n",
              "          docLink.innerHTML = docLinkHtml;\n",
              "          element.appendChild(docLink);\n",
              "        }\n",
              "      </script>\n",
              "    </div>\n",
              "  </div>\n",
              "  "
            ]
          },
          "metadata": {},
          "execution_count": 27
        }
      ]
    },
    {
      "cell_type": "code",
      "source": [
        "daily_precipitation=data['Precip. Accum.'].sum()"
      ],
      "metadata": {
        "colab": {
          "base_uri": "https://localhost:8080/"
        },
        "id": "JDgdDax9KzeU",
        "outputId": "fb77bcf5-b06f-464f-a1f2-68ec15e81435"
      },
      "execution_count": 11,
      "outputs": [
        {
          "output_type": "execute_result",
          "data": {
            "text/plain": [
              "17.780000000000005"
            ]
          },
          "metadata": {},
          "execution_count": 11
        }
      ]
    },
    {
      "cell_type": "code",
      "source": [
        "f\"PR {station_id} 1 {measurement_date.replace('-','')}1240 M 1 X X\""
      ],
      "metadata": {
        "colab": {
          "base_uri": "https://localhost:8080/",
          "height": 35
        },
        "id": "dQqv3d78Luiz",
        "outputId": "6d05da88-6b28-4c6f-f41c-c925b6fb0e6e"
      },
      "execution_count": 30,
      "outputs": [
        {
          "output_type": "execute_result",
          "data": {
            "text/plain": [
              "'PR DUDU1234 1 202104211240 M 1 X X'"
            ],
            "application/vnd.google.colaboratory.intrinsic+json": {
              "type": "string"
            }
          },
          "metadata": {},
          "execution_count": 30
        }
      ]
    },
    {
      "cell_type": "code",
      "source": [
        "files.download()"
      ],
      "metadata": {
        "id": "meyGXyvadA_d"
      },
      "execution_count": null,
      "outputs": []
    }
  ]
}