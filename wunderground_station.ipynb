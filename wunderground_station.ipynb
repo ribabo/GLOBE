{
  "nbformat": 4,
  "nbformat_minor": 0,
  "metadata": {
    "colab": {
      "name": "wunderground_station",
      "provenance": [],
      "collapsed_sections": []
    },
    "kernelspec": {
      "name": "python3",
      "display_name": "Python 3"
    },
    "language_info": {
      "name": "python"
    }
  },
  "cells": [
    {
      "cell_type": "markdown",
      "source": [
        "Početak 2020-02-18"
      ],
      "metadata": {
        "id": "7SFa_AzXHS1I"
      }
    },
    {
      "cell_type": "code",
      "execution_count": 1,
      "metadata": {
        "id": "X_21rLZoZaNm"
      },
      "outputs": [],
      "source": [
        "import pandas as pd\n",
        "from pandas import DataFrame as df\n",
        "from google.colab import files\n",
        "import datetime"
      ]
    },
    {
      "cell_type": "code",
      "source": [
        "start_date=\"2021-05-20\"\n",
        "end_date=\"2021-05-21\"\n",
        "wunderground_station_id=\"IPTUJ11\"\n",
        "station_id=\"DUDU1234\"\n",
        "\n",
        "range_of_dates=pd.date_range(start=start_date, end=end_date)\n",
        "range_of_dates=list(map(lambda x: str(x)[:10],range_of_dates))"
      ],
      "metadata": {
        "id": "X1beVWcOahBV"
      },
      "execution_count": 2,
      "outputs": []
    },
    {
      "cell_type": "code",
      "source": [
        "for measurement_date in range_of_dates:\n",
        "\n",
        "  url=f\"https://www.wunderground.com/dashboard/pws/{wunderground_station_id}/table/{measurement_date}/{measurement_date}/daily\"\n",
        "  dfs = pd.read_html(url,match=\"Precip. Rate.\")\n",
        "  data = pd.concat(dfs)\n",
        "  data.dropna(inplace = True)\n",
        "  data.to_csv(f\"{wunderground_station_id}_{measurement_date}\")"
      ],
      "metadata": {
        "id": "PfDUIkPLaVOg"
      },
      "execution_count": 5,
      "outputs": []
    },
    {
      "cell_type": "code",
      "source": [
        "data=data.replace(to_replace=r'°F', value='', regex=True)\n",
        "data=data.replace(to_replace=r'°%', value='', regex=True)\n",
        "data=data.replace(to_replace=r'°in', value='', regex=True)\n",
        "data=data[['Time', 'Temperature', 'Dew Point', 'Humidity', 'Pressure', 'Precip. Accum.']]\n",
        "data['Temperature']=data['Temperature'].map(lambda x: round((((float(x)-32) * 5)/9),1))\n",
        "data['Dew Point']=data['Dew Point'].map(lambda x: round((((float(x)-32) * 5)/9),1))\n",
        "data['Pressure']=data['Pressure'].map(lambda x: round((float(x)*33.8639),1))\n",
        "data['Precip. Accum.']=data['Precip. Accum.'].map(lambda x: round((float(x)*25.4),1))\n",
        "data['Time'] = (pd.to_datetime(measurement_date+ \" \" + data['Time'], format='%Y-%m-%d %I:%M %p')-datetime.timedelta(hours=2)).dt.strftime('%Y%m%d%H%M')\n",
        "data"
      ],
      "metadata": {
        "colab": {
          "base_uri": "https://localhost:8080/",
          "height": 424
        },
        "id": "n5inc_8QAJuT",
        "outputId": "4eb2357a-573d-4161-a5a6-dc0751e26fee"
      },
      "execution_count": 6,
      "outputs": [
        {
          "output_type": "execute_result",
          "data": {
            "text/plain": [
              "             Time  Temperature  Dew Point Humidity  Pressure  Precip. Accum.\n",
              "1    202105202203          9.6        5.7      77     1013.5             0.0\n",
              "2    202105202214          8.9        5.9      81     1013.9             0.0\n",
              "3    202105202215          8.9        5.5      79     1013.9             0.0\n",
              "4    202105202224          8.9        5.9      81     1013.9             0.0\n",
              "5    202105202227          8.7        5.8      82     1013.5             0.0\n",
              "..            ...          ...        ...      ...       ...             ...\n",
              "222  202105212131         15.8        6.4      54     1005.4             0.0\n",
              "223  202105212139         15.7        6.4      54     1005.4             0.0\n",
              "224  202105212143         15.8        6.2      53     1005.4             0.0\n",
              "225  202105212154         16.0        6.4      53     1005.4             0.0\n",
              "226  202105212155         16.0        6.4      53     1005.4             0.0\n",
              "\n",
              "[211 rows x 6 columns]"
            ],
            "text/html": [
              "\n",
              "  <div id=\"df-3cdc5b2c-3942-47b4-b19f-9ab00bcf7a02\">\n",
              "    <div class=\"colab-df-container\">\n",
              "      <div>\n",
              "<style scoped>\n",
              "    .dataframe tbody tr th:only-of-type {\n",
              "        vertical-align: middle;\n",
              "    }\n",
              "\n",
              "    .dataframe tbody tr th {\n",
              "        vertical-align: top;\n",
              "    }\n",
              "\n",
              "    .dataframe thead th {\n",
              "        text-align: right;\n",
              "    }\n",
              "</style>\n",
              "<table border=\"1\" class=\"dataframe\">\n",
              "  <thead>\n",
              "    <tr style=\"text-align: right;\">\n",
              "      <th></th>\n",
              "      <th>Time</th>\n",
              "      <th>Temperature</th>\n",
              "      <th>Dew Point</th>\n",
              "      <th>Humidity</th>\n",
              "      <th>Pressure</th>\n",
              "      <th>Precip. Accum.</th>\n",
              "    </tr>\n",
              "  </thead>\n",
              "  <tbody>\n",
              "    <tr>\n",
              "      <th>1</th>\n",
              "      <td>202105202203</td>\n",
              "      <td>9.6</td>\n",
              "      <td>5.7</td>\n",
              "      <td>77</td>\n",
              "      <td>1013.5</td>\n",
              "      <td>0.0</td>\n",
              "    </tr>\n",
              "    <tr>\n",
              "      <th>2</th>\n",
              "      <td>202105202214</td>\n",
              "      <td>8.9</td>\n",
              "      <td>5.9</td>\n",
              "      <td>81</td>\n",
              "      <td>1013.9</td>\n",
              "      <td>0.0</td>\n",
              "    </tr>\n",
              "    <tr>\n",
              "      <th>3</th>\n",
              "      <td>202105202215</td>\n",
              "      <td>8.9</td>\n",
              "      <td>5.5</td>\n",
              "      <td>79</td>\n",
              "      <td>1013.9</td>\n",
              "      <td>0.0</td>\n",
              "    </tr>\n",
              "    <tr>\n",
              "      <th>4</th>\n",
              "      <td>202105202224</td>\n",
              "      <td>8.9</td>\n",
              "      <td>5.9</td>\n",
              "      <td>81</td>\n",
              "      <td>1013.9</td>\n",
              "      <td>0.0</td>\n",
              "    </tr>\n",
              "    <tr>\n",
              "      <th>5</th>\n",
              "      <td>202105202227</td>\n",
              "      <td>8.7</td>\n",
              "      <td>5.8</td>\n",
              "      <td>82</td>\n",
              "      <td>1013.5</td>\n",
              "      <td>0.0</td>\n",
              "    </tr>\n",
              "    <tr>\n",
              "      <th>...</th>\n",
              "      <td>...</td>\n",
              "      <td>...</td>\n",
              "      <td>...</td>\n",
              "      <td>...</td>\n",
              "      <td>...</td>\n",
              "      <td>...</td>\n",
              "    </tr>\n",
              "    <tr>\n",
              "      <th>222</th>\n",
              "      <td>202105212131</td>\n",
              "      <td>15.8</td>\n",
              "      <td>6.4</td>\n",
              "      <td>54</td>\n",
              "      <td>1005.4</td>\n",
              "      <td>0.0</td>\n",
              "    </tr>\n",
              "    <tr>\n",
              "      <th>223</th>\n",
              "      <td>202105212139</td>\n",
              "      <td>15.7</td>\n",
              "      <td>6.4</td>\n",
              "      <td>54</td>\n",
              "      <td>1005.4</td>\n",
              "      <td>0.0</td>\n",
              "    </tr>\n",
              "    <tr>\n",
              "      <th>224</th>\n",
              "      <td>202105212143</td>\n",
              "      <td>15.8</td>\n",
              "      <td>6.2</td>\n",
              "      <td>53</td>\n",
              "      <td>1005.4</td>\n",
              "      <td>0.0</td>\n",
              "    </tr>\n",
              "    <tr>\n",
              "      <th>225</th>\n",
              "      <td>202105212154</td>\n",
              "      <td>16.0</td>\n",
              "      <td>6.4</td>\n",
              "      <td>53</td>\n",
              "      <td>1005.4</td>\n",
              "      <td>0.0</td>\n",
              "    </tr>\n",
              "    <tr>\n",
              "      <th>226</th>\n",
              "      <td>202105212155</td>\n",
              "      <td>16.0</td>\n",
              "      <td>6.4</td>\n",
              "      <td>53</td>\n",
              "      <td>1005.4</td>\n",
              "      <td>0.0</td>\n",
              "    </tr>\n",
              "  </tbody>\n",
              "</table>\n",
              "<p>211 rows × 6 columns</p>\n",
              "</div>\n",
              "      <button class=\"colab-df-convert\" onclick=\"convertToInteractive('df-3cdc5b2c-3942-47b4-b19f-9ab00bcf7a02')\"\n",
              "              title=\"Convert this dataframe to an interactive table.\"\n",
              "              style=\"display:none;\">\n",
              "        \n",
              "  <svg xmlns=\"http://www.w3.org/2000/svg\" height=\"24px\"viewBox=\"0 0 24 24\"\n",
              "       width=\"24px\">\n",
              "    <path d=\"M0 0h24v24H0V0z\" fill=\"none\"/>\n",
              "    <path d=\"M18.56 5.44l.94 2.06.94-2.06 2.06-.94-2.06-.94-.94-2.06-.94 2.06-2.06.94zm-11 1L8.5 8.5l.94-2.06 2.06-.94-2.06-.94L8.5 2.5l-.94 2.06-2.06.94zm10 10l.94 2.06.94-2.06 2.06-.94-2.06-.94-.94-2.06-.94 2.06-2.06.94z\"/><path d=\"M17.41 7.96l-1.37-1.37c-.4-.4-.92-.59-1.43-.59-.52 0-1.04.2-1.43.59L10.3 9.45l-7.72 7.72c-.78.78-.78 2.05 0 2.83L4 21.41c.39.39.9.59 1.41.59.51 0 1.02-.2 1.41-.59l7.78-7.78 2.81-2.81c.8-.78.8-2.07 0-2.86zM5.41 20L4 18.59l7.72-7.72 1.47 1.35L5.41 20z\"/>\n",
              "  </svg>\n",
              "      </button>\n",
              "      \n",
              "  <style>\n",
              "    .colab-df-container {\n",
              "      display:flex;\n",
              "      flex-wrap:wrap;\n",
              "      gap: 12px;\n",
              "    }\n",
              "\n",
              "    .colab-df-convert {\n",
              "      background-color: #E8F0FE;\n",
              "      border: none;\n",
              "      border-radius: 50%;\n",
              "      cursor: pointer;\n",
              "      display: none;\n",
              "      fill: #1967D2;\n",
              "      height: 32px;\n",
              "      padding: 0 0 0 0;\n",
              "      width: 32px;\n",
              "    }\n",
              "\n",
              "    .colab-df-convert:hover {\n",
              "      background-color: #E2EBFA;\n",
              "      box-shadow: 0px 1px 2px rgba(60, 64, 67, 0.3), 0px 1px 3px 1px rgba(60, 64, 67, 0.15);\n",
              "      fill: #174EA6;\n",
              "    }\n",
              "\n",
              "    [theme=dark] .colab-df-convert {\n",
              "      background-color: #3B4455;\n",
              "      fill: #D2E3FC;\n",
              "    }\n",
              "\n",
              "    [theme=dark] .colab-df-convert:hover {\n",
              "      background-color: #434B5C;\n",
              "      box-shadow: 0px 1px 3px 1px rgba(0, 0, 0, 0.15);\n",
              "      filter: drop-shadow(0px 1px 2px rgba(0, 0, 0, 0.3));\n",
              "      fill: #FFFFFF;\n",
              "    }\n",
              "  </style>\n",
              "\n",
              "      <script>\n",
              "        const buttonEl =\n",
              "          document.querySelector('#df-3cdc5b2c-3942-47b4-b19f-9ab00bcf7a02 button.colab-df-convert');\n",
              "        buttonEl.style.display =\n",
              "          google.colab.kernel.accessAllowed ? 'block' : 'none';\n",
              "\n",
              "        async function convertToInteractive(key) {\n",
              "          const element = document.querySelector('#df-3cdc5b2c-3942-47b4-b19f-9ab00bcf7a02');\n",
              "          const dataTable =\n",
              "            await google.colab.kernel.invokeFunction('convertToInteractive',\n",
              "                                                     [key], {});\n",
              "          if (!dataTable) return;\n",
              "\n",
              "          const docLinkHtml = 'Like what you see? Visit the ' +\n",
              "            '<a target=\"_blank\" href=https://colab.research.google.com/notebooks/data_table.ipynb>data table notebook</a>'\n",
              "            + ' to learn more about interactive tables.';\n",
              "          element.innerHTML = '';\n",
              "          dataTable['output_type'] = 'display_data';\n",
              "          await google.colab.output.renderOutput(dataTable, element);\n",
              "          const docLink = document.createElement('div');\n",
              "          docLink.innerHTML = docLinkHtml;\n",
              "          element.appendChild(docLink);\n",
              "        }\n",
              "      </script>\n",
              "    </div>\n",
              "  </div>\n",
              "  "
            ]
          },
          "metadata": {},
          "execution_count": 6
        }
      ]
    },
    {
      "cell_type": "markdown",
      "source": [
        "#Precipitation"
      ],
      "metadata": {
        "id": "oQzksgqMdRxp"
      }
    },
    {
      "cell_type": "code",
      "source": [
        "daily_precipitation=data['Precip. Accum.'].sum()\n",
        "if daily_precipitation < 0.5:\n",
        "  daily_precipitation= 'T'\n",
        "\n",
        "daily_precipitation"
      ],
      "metadata": {
        "colab": {
          "base_uri": "https://localhost:8080/",
          "height": 35
        },
        "id": "JDgdDax9KzeU",
        "outputId": "bc3077a8-97ab-499b-9b03-95b5135b9329"
      },
      "execution_count": 9,
      "outputs": [
        {
          "output_type": "execute_result",
          "data": {
            "text/plain": [
              "'T'"
            ],
            "application/vnd.google.colaboratory.intrinsic+json": {
              "type": "string"
            }
          },
          "metadata": {},
          "execution_count": 9
        }
      ]
    },
    {
      "cell_type": "markdown",
      "source": [
        ""
      ],
      "metadata": {
        "id": "E4xneVRbdI0k"
      }
    },
    {
      "cell_type": "code",
      "source": [
        "#2155 is time for summer period, and 2255 is time for winter period\n",
        "f\"PR {station_id} 1 {measurement_date.replace('-','')}2155 {daily_precipitation} 1 X X\""
      ],
      "metadata": {
        "colab": {
          "base_uri": "https://localhost:8080/",
          "height": 35
        },
        "id": "dQqv3d78Luiz",
        "outputId": "4904783e-ac3c-4692-95bd-41a1e9fc97c5"
      },
      "execution_count": 10,
      "outputs": [
        {
          "output_type": "execute_result",
          "data": {
            "text/plain": [
              "'PR DUDU1234 1 202105212155 T 1 X X'"
            ],
            "application/vnd.google.colaboratory.intrinsic+json": {
              "type": "string"
            }
          },
          "metadata": {},
          "execution_count": 10
        }
      ]
    },
    {
      "cell_type": "markdown",
      "source": [
        "#Temperature"
      ],
      "metadata": {
        "id": "KvdivVm3dL-L"
      }
    },
    {
      "cell_type": "code",
      "source": [
        "for measurement_time, temperature in zip(data['Time'], data['Temperature']):\n",
        "    print(f\"ATMNN {station_id} 01 {measurement_time} {temperature}\")"
      ],
      "metadata": {
        "id": "FkE21sIFU-d6"
      },
      "execution_count": null,
      "outputs": []
    },
    {
      "cell_type": "markdown",
      "source": [
        ""
      ],
      "metadata": {
        "id": "dXN8RbmBdKzL"
      }
    },
    {
      "cell_type": "markdown",
      "source": [
        "#Pressure"
      ],
      "metadata": {
        "id": "EvvAkY6kdWih"
      }
    },
    {
      "cell_type": "code",
      "source": [
        "for measurement_time, pressure in zip(data['Time'], data['Pressure']):\n",
        "    print(f\"BP {station_id} 01 {measurement_time} 1 {pressure}\")"
      ],
      "metadata": {
        "id": "E-_dlTCPdY_z"
      },
      "execution_count": null,
      "outputs": []
    },
    {
      "cell_type": "markdown",
      "source": [
        "#Humidity"
      ],
      "metadata": {
        "id": "E81ArZE4e1Aq"
      }
    },
    {
      "cell_type": "code",
      "source": [
        "\n",
        "\n",
        "for measurement_time, temperature, humidity in zip(data['Time'], data['Temperature'], data['Humidity']):\n",
        "    print(f\"RH {station_id} 01 {measurement_time} D {temperature} X {humidity}\")\n",
        "#RH ZZZZ1234 1 200011260101 D 28.5 X 80"
      ],
      "metadata": {
        "colab": {
          "base_uri": "https://localhost:8080/"
        },
        "id": "t79zcpmUe3YM",
        "outputId": "f323df39-82bd-41f7-86b5-8319c6145eda"
      },
      "execution_count": 16,
      "outputs": [
        {
          "output_type": "stream",
          "name": "stdout",
          "text": [
            "RH DUDU1234 01 202105202203 D 9.6 X 77 \n",
            "RH DUDU1234 01 202105202214 D 8.9 X 81 \n",
            "RH DUDU1234 01 202105202215 D 8.9 X 79 \n",
            "RH DUDU1234 01 202105202224 D 8.9 X 81 \n",
            "RH DUDU1234 01 202105202227 D 8.7 X 82 \n",
            "RH DUDU1234 01 202105202249 D 8.3 X 86 \n",
            "RH DUDU1234 01 202105202251 D 8.3 X 86 \n",
            "RH DUDU1234 01 202105202259 D 8.1 X 86 \n",
            "RH DUDU1234 01 202105202303 D 7.8 X 87 \n",
            "RH DUDU1234 01 202105202314 D 7.8 X 87 \n",
            "RH DUDU1234 01 202105202315 D 7.8 X 87 \n",
            "RH DUDU1234 01 202105202324 D 8.1 X 85 \n",
            "RH DUDU1234 01 202105202327 D 8.1 X 85 \n",
            "RH DUDU1234 01 202105202339 D 8.0 X 83 \n",
            "RH DUDU1234 01 202105202349 D 7.6 X 86 \n",
            "RH DUDU1234 01 202105202351 D 7.4 X 86 \n",
            "RH DUDU1234 01 202105202359 D 7.2 X 88 \n",
            "RH DUDU1234 01 202105210003 D 7.2 X 88 \n",
            "RH DUDU1234 01 202105210014 D 7.0 X 89 \n",
            "RH DUDU1234 01 202105210015 D 7.0 X 89 \n",
            "RH DUDU1234 01 202105210024 D 7.1 X 87 \n",
            "RH DUDU1234 01 202105210039 D 6.9 X 88 \n",
            "RH DUDU1234 01 202105210049 D 6.7 X 89 \n",
            "RH DUDU1234 01 202105210051 D 6.7 X 90 \n",
            "RH DUDU1234 01 202105210103 D 6.8 X 90 \n",
            "RH DUDU1234 01 202105210115 D 6.7 X 90 \n",
            "RH DUDU1234 01 202105210124 D 6.6 X 90 \n",
            "RH DUDU1234 01 202105210127 D 6.6 X 90 \n",
            "RH DUDU1234 01 202105210134 D 6.4 X 91 \n",
            "RH DUDU1234 01 202105210139 D 6.4 X 91 \n",
            "RH DUDU1234 01 202105210149 D 6.6 X 91 \n",
            "RH DUDU1234 01 202105210151 D 6.5 X 91 \n",
            "RH DUDU1234 01 202105210159 D 6.3 X 92 \n",
            "RH DUDU1234 01 202105210203 D 6.2 X 92 \n",
            "RH DUDU1234 01 202105210224 D 5.8 X 93 \n",
            "RH DUDU1234 01 202105210227 D 5.8 X 93 \n",
            "RH DUDU1234 01 202105210239 D 5.8 X 93 \n",
            "RH DUDU1234 01 202105210249 D 5.7 X 93 \n",
            "RH DUDU1234 01 202105210251 D 5.8 X 93 \n",
            "RH DUDU1234 01 202105210259 D 5.9 X 93 \n",
            "RH DUDU1234 01 202105210303 D 5.9 X 93 \n",
            "RH DUDU1234 01 202105210339 D 5.8 X 93 \n",
            "RH DUDU1234 01 202105210349 D 6.0 X 93 \n",
            "RH DUDU1234 01 202105210351 D 6.1 X 92 \n",
            "RH DUDU1234 01 202105210359 D 6.4 X 91 \n",
            "RH DUDU1234 01 202105210414 D 6.5 X 91 \n",
            "RH DUDU1234 01 202105210415 D 6.5 X 91 \n",
            "RH DUDU1234 01 202105210424 D 7.0 X 92 \n",
            "RH DUDU1234 01 202105210427 D 7.0 X 91 \n",
            "RH DUDU1234 01 202105210439 D 7.2 X 91 \n",
            "RH DUDU1234 01 202105210459 D 8.1 X 86 \n",
            "RH DUDU1234 01 202105210503 D 8.1 X 87 \n",
            "RH DUDU1234 01 202105210514 D 8.6 X 85 \n",
            "RH DUDU1234 01 202105210515 D 8.7 X 84 \n",
            "RH DUDU1234 01 202105210524 D 9.2 X 83 \n",
            "RH DUDU1234 01 202105210527 D 9.3 X 83 \n",
            "RH DUDU1234 01 202105210539 D 9.8 X 82 \n",
            "RH DUDU1234 01 202105210551 D 10.6 X 78 \n",
            "RH DUDU1234 01 202105210559 D 11.2 X 80 \n",
            "RH DUDU1234 01 202105210603 D 11.3 X 79 \n",
            "RH DUDU1234 01 202105210614 D 11.8 X 74 \n",
            "RH DUDU1234 01 202105210615 D 12.1 X 71 \n",
            "RH DUDU1234 01 202105210624 D 12.4 X 73 \n",
            "RH DUDU1234 01 202105210627 D 12.5 X 73 \n",
            "RH DUDU1234 01 202105210639 D 12.9 X 74 \n",
            "RH DUDU1234 01 202105210649 D 13.7 X 72 \n",
            "RH DUDU1234 01 202105210651 D 13.7 X 74 \n",
            "RH DUDU1234 01 202105210659 D 14.9 X 65 \n",
            "RH DUDU1234 01 202105210703 D 15.1 X 65 \n",
            "RH DUDU1234 01 202105210714 D 15.8 X 62 \n",
            "RH DUDU1234 01 202105210715 D 16.0 X 58 \n",
            "RH DUDU1234 01 202105210724 D 16.4 X 56 \n",
            "RH DUDU1234 01 202105210727 D 16.6 X 54 \n",
            "RH DUDU1234 01 202105210739 D 17.3 X 50 \n",
            "RH DUDU1234 01 202105210749 D 17.4 X 48 \n",
            "RH DUDU1234 01 202105210751 D 17.5 X 47 \n",
            "RH DUDU1234 01 202105210759 D 17.7 X 45 \n",
            "RH DUDU1234 01 202105210803 D 17.7 X 41 \n",
            "RH DUDU1234 01 202105210814 D 17.7 X 42 \n",
            "RH DUDU1234 01 202105210815 D 17.6 X 43 \n",
            "RH DUDU1234 01 202105210824 D 17.8 X 43 \n",
            "RH DUDU1234 01 202105210827 D 17.8 X 43 \n",
            "RH DUDU1234 01 202105210839 D 18.2 X 45 \n",
            "RH DUDU1234 01 202105210849 D 18.1 X 44 \n",
            "RH DUDU1234 01 202105210851 D 18.1 X 45 \n",
            "RH DUDU1234 01 202105210859 D 18.4 X 47 \n",
            "RH DUDU1234 01 202105210903 D 18.4 X 47 \n",
            "RH DUDU1234 01 202105210914 D 18.7 X 47 \n",
            "RH DUDU1234 01 202105210915 D 18.9 X 47 \n",
            "RH DUDU1234 01 202105210924 D 19.2 X 47 \n",
            "RH DUDU1234 01 202105210927 D 19.2 X 47 \n",
            "RH DUDU1234 01 202105210939 D 19.3 X 43 \n",
            "RH DUDU1234 01 202105210949 D 19.5 X 42 \n",
            "RH DUDU1234 01 202105210951 D 19.7 X 39 \n",
            "RH DUDU1234 01 202105210959 D 19.7 X 41 \n",
            "RH DUDU1234 01 202105211003 D 19.7 X 41 \n",
            "RH DUDU1234 01 202105211014 D 20.1 X 41 \n",
            "RH DUDU1234 01 202105211015 D 20.0 X 40 \n",
            "RH DUDU1234 01 202105211024 D 20.1 X 40 \n",
            "RH DUDU1234 01 202105211027 D 20.1 X 43 \n",
            "RH DUDU1234 01 202105211034 D 20.5 X 41 \n",
            "RH DUDU1234 01 202105211039 D 20.6 X 42 \n",
            "RH DUDU1234 01 202105211049 D 20.8 X 41 \n",
            "RH DUDU1234 01 202105211051 D 20.7 X 39 \n",
            "RH DUDU1234 01 202105211059 D 20.7 X 41 \n",
            "RH DUDU1234 01 202105211103 D 20.7 X 40 \n",
            "RH DUDU1234 01 202105211114 D 20.8 X 41 \n",
            "RH DUDU1234 01 202105211115 D 20.9 X 41 \n",
            "RH DUDU1234 01 202105211124 D 21.3 X 41 \n",
            "RH DUDU1234 01 202105211127 D 21.3 X 40 \n",
            "RH DUDU1234 01 202105211134 D 21.2 X 38 \n",
            "RH DUDU1234 01 202105211139 D 21.2 X 39 \n",
            "RH DUDU1234 01 202105211149 D 21.4 X 38 \n",
            "RH DUDU1234 01 202105211151 D 21.3 X 40 \n",
            "RH DUDU1234 01 202105211159 D 21.6 X 39 \n",
            "RH DUDU1234 01 202105211203 D 21.7 X 40 \n",
            "RH DUDU1234 01 202105211214 D 21.5 X 40 \n",
            "RH DUDU1234 01 202105211215 D 21.2 X 41 \n",
            "RH DUDU1234 01 202105211224 D 21.3 X 40 \n",
            "RH DUDU1234 01 202105211227 D 21.2 X 40 \n",
            "RH DUDU1234 01 202105211234 D 21.3 X 42 \n",
            "RH DUDU1234 01 202105211239 D 21.3 X 41 \n",
            "RH DUDU1234 01 202105211249 D 21.8 X 39 \n",
            "RH DUDU1234 01 202105211251 D 21.9 X 40 \n",
            "RH DUDU1234 01 202105211259 D 21.7 X 42 \n",
            "RH DUDU1234 01 202105211303 D 21.5 X 39 \n",
            "RH DUDU1234 01 202105211314 D 22.0 X 38 \n",
            "RH DUDU1234 01 202105211315 D 21.5 X 38 \n",
            "RH DUDU1234 01 202105211324 D 21.0 X 41 \n",
            "RH DUDU1234 01 202105211327 D 21.0 X 40 \n",
            "RH DUDU1234 01 202105211339 D 21.5 X 39 \n",
            "RH DUDU1234 01 202105211349 D 21.3 X 42 \n",
            "RH DUDU1234 01 202105211351 D 21.3 X 41 \n",
            "RH DUDU1234 01 202105211359 D 21.1 X 42 \n",
            "RH DUDU1234 01 202105211403 D 20.9 X 42 \n",
            "RH DUDU1234 01 202105211414 D 20.5 X 40 \n",
            "RH DUDU1234 01 202105211415 D 20.4 X 40 \n",
            "RH DUDU1234 01 202105211424 D 20.2 X 41 \n",
            "RH DUDU1234 01 202105211427 D 20.2 X 42 \n",
            "RH DUDU1234 01 202105211439 D 20.1 X 42 \n",
            "RH DUDU1234 01 202105211449 D 20.0 X 45 \n",
            "RH DUDU1234 01 202105211451 D 19.9 X 46 \n",
            "RH DUDU1234 01 202105211459 D 19.8 X 45 \n",
            "RH DUDU1234 01 202105211503 D 19.7 X 46 \n",
            "RH DUDU1234 01 202105211514 D 19.5 X 46 \n",
            "RH DUDU1234 01 202105211515 D 19.5 X 48 \n",
            "RH DUDU1234 01 202105211524 D 19.1 X 45 \n",
            "RH DUDU1234 01 202105211527 D 19.1 X 44 \n",
            "RH DUDU1234 01 202105211539 D 18.8 X 44 \n",
            "RH DUDU1234 01 202105211543 D 18.8 X 45 \n",
            "RH DUDU1234 01 202105211554 D 18.4 X 45 \n",
            "RH DUDU1234 01 202105211555 D 18.5 X 45 \n",
            "RH DUDU1234 01 202105211604 D 18.6 X 46 \n",
            "RH DUDU1234 01 202105211607 D 18.4 X 46 \n",
            "RH DUDU1234 01 202105211614 D 18.3 X 48 \n",
            "RH DUDU1234 01 202105211619 D 18.3 X 46 \n",
            "RH DUDU1234 01 202105211629 D 18.1 X 48 \n",
            "RH DUDU1234 01 202105211631 D 18.1 X 46 \n",
            "RH DUDU1234 01 202105211639 D 18.3 X 46 \n",
            "RH DUDU1234 01 202105211643 D 18.2 X 48 \n",
            "RH DUDU1234 01 202105211654 D 18.0 X 49 \n",
            "RH DUDU1234 01 202105211655 D 18.0 X 50 \n",
            "RH DUDU1234 01 202105211704 D 18.1 X 51 \n",
            "RH DUDU1234 01 202105211707 D 18.2 X 51 \n",
            "RH DUDU1234 01 202105211714 D 18.4 X 49 \n",
            "RH DUDU1234 01 202105211719 D 18.6 X 48 \n",
            "RH DUDU1234 01 202105211729 D 18.5 X 48 \n",
            "RH DUDU1234 01 202105211731 D 18.5 X 48 \n",
            "RH DUDU1234 01 202105211739 D 18.5 X 48 \n",
            "RH DUDU1234 01 202105211743 D 18.4 X 49 \n",
            "RH DUDU1234 01 202105211754 D 17.9 X 52 \n",
            "RH DUDU1234 01 202105211755 D 17.8 X 51 \n",
            "RH DUDU1234 01 202105211804 D 17.8 X 51 \n",
            "RH DUDU1234 01 202105211807 D 17.7 X 50 \n",
            "RH DUDU1234 01 202105211814 D 17.8 X 48 \n",
            "RH DUDU1234 01 202105211819 D 17.8 X 49 \n",
            "RH DUDU1234 01 202105211829 D 17.6 X 49 \n",
            "RH DUDU1234 01 202105211831 D 17.5 X 48 \n",
            "RH DUDU1234 01 202105211839 D 17.2 X 49 \n",
            "RH DUDU1234 01 202105211843 D 17.2 X 49 \n",
            "RH DUDU1234 01 202105211854 D 16.9 X 51 \n",
            "RH DUDU1234 01 202105211855 D 16.8 X 52 \n",
            "RH DUDU1234 01 202105211904 D 16.6 X 51 \n",
            "RH DUDU1234 01 202105211907 D 16.7 X 51 \n",
            "RH DUDU1234 01 202105211919 D 16.9 X 50 \n",
            "RH DUDU1234 01 202105211929 D 16.8 X 51 \n",
            "RH DUDU1234 01 202105211931 D 16.7 X 52 \n",
            "RH DUDU1234 01 202105211939 D 16.6 X 51 \n",
            "RH DUDU1234 01 202105211943 D 16.6 X 50 \n",
            "RH DUDU1234 01 202105211954 D 16.6 X 50 \n",
            "RH DUDU1234 01 202105211955 D 16.6 X 50 \n",
            "RH DUDU1234 01 202105212004 D 16.6 X 51 \n",
            "RH DUDU1234 01 202105212007 D 16.4 X 50 \n",
            "RH DUDU1234 01 202105212014 D 16.3 X 53 \n",
            "RH DUDU1234 01 202105212019 D 16.2 X 52 \n",
            "RH DUDU1234 01 202105212029 D 16.2 X 52 \n",
            "RH DUDU1234 01 202105212031 D 16.1 X 52 \n",
            "RH DUDU1234 01 202105212039 D 16.0 X 52 \n",
            "RH DUDU1234 01 202105212043 D 16.0 X 52 \n",
            "RH DUDU1234 01 202105212054 D 16.1 X 52 \n",
            "RH DUDU1234 01 202105212055 D 16.1 X 52 \n",
            "RH DUDU1234 01 202105212104 D 16.1 X 51 \n",
            "RH DUDU1234 01 202105212107 D 16.1 X 53 \n",
            "RH DUDU1234 01 202105212114 D 15.9 X 53 \n",
            "RH DUDU1234 01 202105212119 D 15.9 X 53 \n",
            "RH DUDU1234 01 202105212129 D 15.9 X 53 \n",
            "RH DUDU1234 01 202105212131 D 15.8 X 54 \n",
            "RH DUDU1234 01 202105212139 D 15.7 X 54 \n",
            "RH DUDU1234 01 202105212143 D 15.8 X 53 \n",
            "RH DUDU1234 01 202105212154 D 16.0 X 53 \n",
            "RH DUDU1234 01 202105212155 D 16.0 X 53 \n"
          ]
        }
      ]
    },
    {
      "cell_type": "markdown",
      "source": [
        "#Other"
      ],
      "metadata": {
        "id": "KYhmD7bAe6ms"
      }
    },
    {
      "cell_type": "code",
      "source": [
        "files.download()"
      ],
      "metadata": {
        "id": "meyGXyvadA_d"
      },
      "execution_count": null,
      "outputs": []
    }
  ]
}