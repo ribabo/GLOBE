{
  "nbformat": 4,
  "nbformat_minor": 0,
  "metadata": {
    "colab": {
      "name": "wunderground_station",
      "provenance": [],
      "collapsed_sections": []
    },
    "kernelspec": {
      "name": "python3",
      "display_name": "Python 3"
    },
    "language_info": {
      "name": "python"
    }
  },
  "cells": [
    {
      "cell_type": "markdown",
      "source": [
        "Početak 2020-02-18"
      ],
      "metadata": {
        "id": "7SFa_AzXHS1I"
      }
    },
    {
      "cell_type": "code",
      "execution_count": 1,
      "metadata": {
        "id": "X_21rLZoZaNm"
      },
      "outputs": [],
      "source": [
        "import pandas as pd\n",
        "from pandas import DataFrame as df\n",
        "from google.colab import files"
      ]
    },
    {
      "cell_type": "code",
      "source": [
        "start_date=\"2020-04-20\"\n",
        "end_date=\"2020-04-21\"\n",
        "wunderground_station_id=\"IPTUJ11\"\n",
        "station_id=\"DUDU1234\""
      ],
      "metadata": {
        "id": "X1beVWcOahBV"
      },
      "execution_count": 17,
      "outputs": []
    },
    {
      "cell_type": "code",
      "source": [
        "range_of_dates=pd.date_range(start=start_date, end=end_date)"
      ],
      "metadata": {
        "id": "KX9NHCXqbzGS"
      },
      "execution_count": 18,
      "outputs": []
    },
    {
      "cell_type": "code",
      "source": [
        "range_of_dates=list(map(lambda x: str(x)[:10],range_of_dates))"
      ],
      "metadata": {
        "id": "7nYPZEUgeZCa"
      },
      "execution_count": 19,
      "outputs": []
    },
    {
      "cell_type": "code",
      "source": [
        "print(range_of_dates)"
      ],
      "metadata": {
        "colab": {
          "base_uri": "https://localhost:8080/"
        },
        "id": "IC_2lD04cTrQ",
        "outputId": "039ecb29-0278-473a-c621-24623afffb31"
      },
      "execution_count": 6,
      "outputs": [
        {
          "output_type": "stream",
          "name": "stdout",
          "text": [
            "['2020-04-15', '2020-04-16']\n"
          ]
        }
      ]
    },
    {
      "cell_type": "code",
      "source": [
        "for date in range_of_dates:\n",
        "\n",
        "  url=f\"https://www.wunderground.com/dashboard/pws/{wunderground_station_id}/table/{date}/{date}/daily\"\n",
        "  dfs = pd.read_html(url,match=\"Precip. Rate.\")"
      ],
      "metadata": {
        "id": "PfDUIkPLaVOg"
      },
      "execution_count": 22,
      "outputs": []
    },
    {
      "cell_type": "code",
      "source": [
        "  data = pd.concat(dfs)\n",
        "  data.dropna(inplace = True)\n",
        "  data.to_csv(f\"{wunderground_station_id}_{date}\")"
      ],
      "metadata": {
        "id": "JeAvieiQFTWC"
      },
      "execution_count": 28,
      "outputs": []
    },
    {
      "cell_type": "code",
      "source": [
        "data=data.replace(to_replace=r'°F', value='', regex=True)\n",
        "data=data.replace(to_replace=r'°%', value='', regex=True)\n",
        "data=data.replace(to_replace=r'°in', value='', regex=True)\n",
        "data=data[['Time', 'Temperature', 'Dew Point', 'Humidity', 'Pressure', 'Precip. Accum.']]\n",
        "data['Temperature']=data['Temperature'].map(lambda x: ((float(x)-32) * 5)/9)\n",
        "data['Dew Point']=data['Dew Point'].map(lambda x: ((float(x)-32) * 5)/9)\n",
        "data['Pressure']=data['Pressure'].map(lambda x: float(x)*33.8639)\n",
        "data['Precip. Accum.']=data['Precip. Accum.'].map(lambda x: float(x)*25.4)\n",
        "data"
      ],
      "metadata": {
        "colab": {
          "base_uri": "https://localhost:8080/",
          "height": 424
        },
        "id": "n5inc_8QAJuT",
        "outputId": "45810247-e6a8-4b40-e2e4-25b0f230ed57"
      },
      "execution_count": 29,
      "outputs": [
        {
          "output_type": "execute_result",
          "data": {
            "text/plain": [
              "         Time  Temperature  Dew Point Humidity     Pressure Precip. Accum.\n",
              "1    12:04 AM     7.500000   5.000000      84   1013.546527          0.00 \n",
              "2    12:09 AM     7.500000   5.055556      84   1013.546527          0.00 \n",
              "3    12:14 AM     7.444444   5.055556      85   1013.546527          0.00 \n",
              "4    12:19 AM     7.333333   4.944444      85   1013.546527          0.00 \n",
              "5    12:24 AM     7.388889   4.888889      84   1013.546527          0.00 \n",
              "..        ...          ...        ...      ...          ...            ...\n",
              "284  11:39 PM     6.611111   2.944444      78   1013.885166          0.00 \n",
              "285  11:44 PM     6.555556   1.777778      72   1014.223805          0.00 \n",
              "286  11:49 PM     6.444444   2.000000      74   1014.223805          0.00 \n",
              "287  11:54 PM     6.277778   2.055556      75   1014.223805          0.00 \n",
              "288  11:59 PM     6.222222   3.000000      80   1014.562444          0.00 \n",
              "\n",
              "[284 rows x 6 columns]"
            ],
            "text/html": [
              "\n",
              "  <div id=\"df-06ef4f83-9826-46bf-9de0-1be13b84d37e\">\n",
              "    <div class=\"colab-df-container\">\n",
              "      <div>\n",
              "<style scoped>\n",
              "    .dataframe tbody tr th:only-of-type {\n",
              "        vertical-align: middle;\n",
              "    }\n",
              "\n",
              "    .dataframe tbody tr th {\n",
              "        vertical-align: top;\n",
              "    }\n",
              "\n",
              "    .dataframe thead th {\n",
              "        text-align: right;\n",
              "    }\n",
              "</style>\n",
              "<table border=\"1\" class=\"dataframe\">\n",
              "  <thead>\n",
              "    <tr style=\"text-align: right;\">\n",
              "      <th></th>\n",
              "      <th>Time</th>\n",
              "      <th>Temperature</th>\n",
              "      <th>Dew Point</th>\n",
              "      <th>Humidity</th>\n",
              "      <th>Pressure</th>\n",
              "      <th>Precip. Accum.</th>\n",
              "    </tr>\n",
              "  </thead>\n",
              "  <tbody>\n",
              "    <tr>\n",
              "      <th>1</th>\n",
              "      <td>12:04 AM</td>\n",
              "      <td>7.500000</td>\n",
              "      <td>5.000000</td>\n",
              "      <td>84</td>\n",
              "      <td>1013.546527</td>\n",
              "      <td>0.00</td>\n",
              "    </tr>\n",
              "    <tr>\n",
              "      <th>2</th>\n",
              "      <td>12:09 AM</td>\n",
              "      <td>7.500000</td>\n",
              "      <td>5.055556</td>\n",
              "      <td>84</td>\n",
              "      <td>1013.546527</td>\n",
              "      <td>0.00</td>\n",
              "    </tr>\n",
              "    <tr>\n",
              "      <th>3</th>\n",
              "      <td>12:14 AM</td>\n",
              "      <td>7.444444</td>\n",
              "      <td>5.055556</td>\n",
              "      <td>85</td>\n",
              "      <td>1013.546527</td>\n",
              "      <td>0.00</td>\n",
              "    </tr>\n",
              "    <tr>\n",
              "      <th>4</th>\n",
              "      <td>12:19 AM</td>\n",
              "      <td>7.333333</td>\n",
              "      <td>4.944444</td>\n",
              "      <td>85</td>\n",
              "      <td>1013.546527</td>\n",
              "      <td>0.00</td>\n",
              "    </tr>\n",
              "    <tr>\n",
              "      <th>5</th>\n",
              "      <td>12:24 AM</td>\n",
              "      <td>7.388889</td>\n",
              "      <td>4.888889</td>\n",
              "      <td>84</td>\n",
              "      <td>1013.546527</td>\n",
              "      <td>0.00</td>\n",
              "    </tr>\n",
              "    <tr>\n",
              "      <th>...</th>\n",
              "      <td>...</td>\n",
              "      <td>...</td>\n",
              "      <td>...</td>\n",
              "      <td>...</td>\n",
              "      <td>...</td>\n",
              "      <td>...</td>\n",
              "    </tr>\n",
              "    <tr>\n",
              "      <th>284</th>\n",
              "      <td>11:39 PM</td>\n",
              "      <td>6.611111</td>\n",
              "      <td>2.944444</td>\n",
              "      <td>78</td>\n",
              "      <td>1013.885166</td>\n",
              "      <td>0.00</td>\n",
              "    </tr>\n",
              "    <tr>\n",
              "      <th>285</th>\n",
              "      <td>11:44 PM</td>\n",
              "      <td>6.555556</td>\n",
              "      <td>1.777778</td>\n",
              "      <td>72</td>\n",
              "      <td>1014.223805</td>\n",
              "      <td>0.00</td>\n",
              "    </tr>\n",
              "    <tr>\n",
              "      <th>286</th>\n",
              "      <td>11:49 PM</td>\n",
              "      <td>6.444444</td>\n",
              "      <td>2.000000</td>\n",
              "      <td>74</td>\n",
              "      <td>1014.223805</td>\n",
              "      <td>0.00</td>\n",
              "    </tr>\n",
              "    <tr>\n",
              "      <th>287</th>\n",
              "      <td>11:54 PM</td>\n",
              "      <td>6.277778</td>\n",
              "      <td>2.055556</td>\n",
              "      <td>75</td>\n",
              "      <td>1014.223805</td>\n",
              "      <td>0.00</td>\n",
              "    </tr>\n",
              "    <tr>\n",
              "      <th>288</th>\n",
              "      <td>11:59 PM</td>\n",
              "      <td>6.222222</td>\n",
              "      <td>3.000000</td>\n",
              "      <td>80</td>\n",
              "      <td>1014.562444</td>\n",
              "      <td>0.00</td>\n",
              "    </tr>\n",
              "  </tbody>\n",
              "</table>\n",
              "<p>284 rows × 6 columns</p>\n",
              "</div>\n",
              "      <button class=\"colab-df-convert\" onclick=\"convertToInteractive('df-06ef4f83-9826-46bf-9de0-1be13b84d37e')\"\n",
              "              title=\"Convert this dataframe to an interactive table.\"\n",
              "              style=\"display:none;\">\n",
              "        \n",
              "  <svg xmlns=\"http://www.w3.org/2000/svg\" height=\"24px\"viewBox=\"0 0 24 24\"\n",
              "       width=\"24px\">\n",
              "    <path d=\"M0 0h24v24H0V0z\" fill=\"none\"/>\n",
              "    <path d=\"M18.56 5.44l.94 2.06.94-2.06 2.06-.94-2.06-.94-.94-2.06-.94 2.06-2.06.94zm-11 1L8.5 8.5l.94-2.06 2.06-.94-2.06-.94L8.5 2.5l-.94 2.06-2.06.94zm10 10l.94 2.06.94-2.06 2.06-.94-2.06-.94-.94-2.06-.94 2.06-2.06.94z\"/><path d=\"M17.41 7.96l-1.37-1.37c-.4-.4-.92-.59-1.43-.59-.52 0-1.04.2-1.43.59L10.3 9.45l-7.72 7.72c-.78.78-.78 2.05 0 2.83L4 21.41c.39.39.9.59 1.41.59.51 0 1.02-.2 1.41-.59l7.78-7.78 2.81-2.81c.8-.78.8-2.07 0-2.86zM5.41 20L4 18.59l7.72-7.72 1.47 1.35L5.41 20z\"/>\n",
              "  </svg>\n",
              "      </button>\n",
              "      \n",
              "  <style>\n",
              "    .colab-df-container {\n",
              "      display:flex;\n",
              "      flex-wrap:wrap;\n",
              "      gap: 12px;\n",
              "    }\n",
              "\n",
              "    .colab-df-convert {\n",
              "      background-color: #E8F0FE;\n",
              "      border: none;\n",
              "      border-radius: 50%;\n",
              "      cursor: pointer;\n",
              "      display: none;\n",
              "      fill: #1967D2;\n",
              "      height: 32px;\n",
              "      padding: 0 0 0 0;\n",
              "      width: 32px;\n",
              "    }\n",
              "\n",
              "    .colab-df-convert:hover {\n",
              "      background-color: #E2EBFA;\n",
              "      box-shadow: 0px 1px 2px rgba(60, 64, 67, 0.3), 0px 1px 3px 1px rgba(60, 64, 67, 0.15);\n",
              "      fill: #174EA6;\n",
              "    }\n",
              "\n",
              "    [theme=dark] .colab-df-convert {\n",
              "      background-color: #3B4455;\n",
              "      fill: #D2E3FC;\n",
              "    }\n",
              "\n",
              "    [theme=dark] .colab-df-convert:hover {\n",
              "      background-color: #434B5C;\n",
              "      box-shadow: 0px 1px 3px 1px rgba(0, 0, 0, 0.15);\n",
              "      filter: drop-shadow(0px 1px 2px rgba(0, 0, 0, 0.3));\n",
              "      fill: #FFFFFF;\n",
              "    }\n",
              "  </style>\n",
              "\n",
              "      <script>\n",
              "        const buttonEl =\n",
              "          document.querySelector('#df-06ef4f83-9826-46bf-9de0-1be13b84d37e button.colab-df-convert');\n",
              "        buttonEl.style.display =\n",
              "          google.colab.kernel.accessAllowed ? 'block' : 'none';\n",
              "\n",
              "        async function convertToInteractive(key) {\n",
              "          const element = document.querySelector('#df-06ef4f83-9826-46bf-9de0-1be13b84d37e');\n",
              "          const dataTable =\n",
              "            await google.colab.kernel.invokeFunction('convertToInteractive',\n",
              "                                                     [key], {});\n",
              "          if (!dataTable) return;\n",
              "\n",
              "          const docLinkHtml = 'Like what you see? Visit the ' +\n",
              "            '<a target=\"_blank\" href=https://colab.research.google.com/notebooks/data_table.ipynb>data table notebook</a>'\n",
              "            + ' to learn more about interactive tables.';\n",
              "          element.innerHTML = '';\n",
              "          dataTable['output_type'] = 'display_data';\n",
              "          await google.colab.output.renderOutput(dataTable, element);\n",
              "          const docLink = document.createElement('div');\n",
              "          docLink.innerHTML = docLinkHtml;\n",
              "          element.appendChild(docLink);\n",
              "        }\n",
              "      </script>\n",
              "    </div>\n",
              "  </div>\n",
              "  "
            ]
          },
          "metadata": {},
          "execution_count": 29
        }
      ]
    },
    {
      "cell_type": "code",
      "source": [
        "files.download()"
      ],
      "metadata": {
        "id": "meyGXyvadA_d"
      },
      "execution_count": null,
      "outputs": []
    }
  ]
}