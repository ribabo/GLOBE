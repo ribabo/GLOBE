{
  "nbformat": 4,
  "nbformat_minor": 0,
  "metadata": {
    "colab": {
      "name": "wunderground_station",
      "provenance": []
    },
    "kernelspec": {
      "name": "python3",
      "display_name": "Python 3"
    },
    "language_info": {
      "name": "python"
    }
  },
  "cells": [
    {
      "cell_type": "markdown",
      "source": [
        "Početak 2020-02-18"
      ],
      "metadata": {
        "id": "7SFa_AzXHS1I"
      }
    },
    {
      "cell_type": "code",
      "execution_count": null,
      "metadata": {
        "id": "X_21rLZoZaNm"
      },
      "outputs": [],
      "source": [
        "import pandas as pd\n",
        "from pandas import DataFrame as df\n",
        "from google.colab import files"
      ]
    },
    {
      "cell_type": "code",
      "source": [
        "start_date=\"2020-03-15\"\n",
        "end_date=\"2020-03-19\"\n",
        "wunderground_station_id=\"IPTUJ11\"\n",
        "station_id=\"DUDU1234\""
      ],
      "metadata": {
        "id": "X1beVWcOahBV"
      },
      "execution_count": null,
      "outputs": []
    },
    {
      "cell_type": "code",
      "source": [
        "range_of_dates=pd.date_range(start=start_date, end=end_date)"
      ],
      "metadata": {
        "id": "KX9NHCXqbzGS"
      },
      "execution_count": null,
      "outputs": []
    },
    {
      "cell_type": "code",
      "source": [
        "range_of_dates=list(map(lambda x: str(x)[:10],range_of_dates))"
      ],
      "metadata": {
        "id": "7nYPZEUgeZCa"
      },
      "execution_count": null,
      "outputs": []
    },
    {
      "cell_type": "code",
      "source": [
        "print(range_of_dates)"
      ],
      "metadata": {
        "colab": {
          "base_uri": "https://localhost:8080/"
        },
        "id": "IC_2lD04cTrQ",
        "outputId": "58d9e97a-c74e-4348-faee-34e005ca407d"
      },
      "execution_count": null,
      "outputs": [
        {
          "output_type": "stream",
          "name": "stdout",
          "text": [
            "['2020-03-15', '2020-03-16', '2020-03-17', '2020-03-18', '2020-03-19']\n"
          ]
        }
      ]
    },
    {
      "cell_type": "code",
      "source": [
        "for date in range_of_dates:\n",
        "\n",
        "  url=f\"https://www.wunderground.com/dashboard/pws/{wunderground_station_id}/table/{date}/{date}/daily\"\n",
        "  dfs = pd.read_html(url,match=\"Precip. Rate.\")\n",
        "  data = pd.concat(dfs)\n",
        "  data.dropna(inplace = True)\n",
        "  data.to_csv(f\"{wunderground_station_id}_{date}\")"
      ],
      "metadata": {
        "id": "PfDUIkPLaVOg"
      },
      "execution_count": null,
      "outputs": []
    },
    {
      "cell_type": "code",
      "source": [
        "files.download()"
      ],
      "metadata": {
        "colab": {
          "base_uri": "https://localhost:8080/",
          "height": 166
        },
        "id": "meyGXyvadA_d",
        "outputId": "15fafa40-fc01-453b-853e-920056f01ac9"
      },
      "execution_count": null,
      "outputs": [
        {
          "output_type": "error",
          "ename": "TypeError",
          "evalue": "ignored",
          "traceback": [
            "\u001b[0;31m---------------------------------------------------------------------------\u001b[0m",
            "\u001b[0;31mTypeError\u001b[0m                                 Traceback (most recent call last)",
            "\u001b[0;32m<ipython-input-79-8c6fcd61cd05>\u001b[0m in \u001b[0;36m<module>\u001b[0;34m()\u001b[0m\n\u001b[0;32m----> 1\u001b[0;31m \u001b[0mfiles\u001b[0m\u001b[0;34m.\u001b[0m\u001b[0mdownload\u001b[0m\u001b[0;34m(\u001b[0m\u001b[0;34m)\u001b[0m\u001b[0;34m\u001b[0m\u001b[0;34m\u001b[0m\u001b[0m\n\u001b[0m",
            "\u001b[0;31mTypeError\u001b[0m: download() missing 1 required positional argument: 'filename'"
          ]
        }
      ]
    }
  ]
}