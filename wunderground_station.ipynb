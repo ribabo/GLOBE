{
  "nbformat": 4,
  "nbformat_minor": 0,
  "metadata": {
    "colab": {
      "name": "wunderground_station",
      "provenance": []
    },
    "kernelspec": {
      "name": "python3",
      "display_name": "Python 3"
    },
    "language_info": {
      "name": "python"
    }
  },
  "cells": [
    {
      "cell_type": "markdown",
      "source": [
        "Početak 2020-02-18"
      ],
      "metadata": {
        "id": "7SFa_AzXHS1I"
      }
    },
    {
      "cell_type": "code",
      "execution_count": 1,
      "metadata": {
        "id": "X_21rLZoZaNm"
      },
      "outputs": [],
      "source": [
        "import pandas as pd\n",
        "from pandas import DataFrame as df\n",
        "from google.colab import files"
      ]
    },
    {
      "cell_type": "code",
      "source": [
        "start_date=\"2020-04-15\"\n",
        "end_date=\"2020-04-16\"\n",
        "wunderground_station_id=\"IPTUJ11\"\n",
        "station_id=\"DUDU1234\""
      ],
      "metadata": {
        "id": "X1beVWcOahBV"
      },
      "execution_count": 7,
      "outputs": []
    },
    {
      "cell_type": "code",
      "source": [
        "range_of_dates=pd.date_range(start=start_date, end=end_date)"
      ],
      "metadata": {
        "id": "KX9NHCXqbzGS"
      },
      "execution_count": 8,
      "outputs": []
    },
    {
      "cell_type": "code",
      "source": [
        "range_of_dates=list(map(lambda x: str(x)[:10],range_of_dates))"
      ],
      "metadata": {
        "id": "7nYPZEUgeZCa"
      },
      "execution_count": 9,
      "outputs": []
    },
    {
      "cell_type": "code",
      "source": [
        "print(range_of_dates)"
      ],
      "metadata": {
        "colab": {
          "base_uri": "https://localhost:8080/"
        },
        "id": "IC_2lD04cTrQ",
        "outputId": "5ae03a4d-224b-4f32-cec2-763fb2465ff4"
      },
      "execution_count": 10,
      "outputs": [
        {
          "output_type": "stream",
          "name": "stdout",
          "text": [
            "['2020-04-15', '2020-04-16']\n"
          ]
        }
      ]
    },
    {
      "cell_type": "code",
      "source": [
        "for date in range_of_dates:\n",
        "\n",
        "  url=f\"https://www.wunderground.com/dashboard/pws/{wunderground_station_id}/table/{date}/{date}/daily\"\n",
        "  dfs = pd.read_html(url,match=\"Precip. Rate.\")\n",
        "  data = pd.concat(dfs)\n",
        "  data.dropna(inplace = True)\n",
        "  data.reset_index(drop=True)\n",
        "  data.to_csv(f\"{wunderground_station_id}_{date}\")"
      ],
      "metadata": {
        "id": "PfDUIkPLaVOg"
      },
      "execution_count": 43,
      "outputs": []
    },
    {
      "cell_type": "code",
      "source": [
        "data=data.replace(to_replace=r' °F', value='', regex=True)\n",
        "data=data.replace(to_replace=r'°%', value='', regex=True)\n",
        "data=data.replace(to_replace=r'°in', value='', regex=True)\n",
        "data=data[['Time', 'Temperature', 'Dew Point', 'Humidity', 'Pressure', 'Precip. Accum.']]\n",
        "data"
      ],
      "metadata": {
        "colab": {
          "base_uri": "https://localhost:8080/",
          "height": 424
        },
        "id": "n5inc_8QAJuT",
        "outputId": "52a0baf2-7745-412f-888b-1d70b9973bda"
      },
      "execution_count": 44,
      "outputs": [
        {
          "output_type": "execute_result",
          "data": {
            "text/plain": [
              "         Time Temperature Dew Point Humidity Pressure Precip. Accum.\n",
              "1    12:04 AM     42.9 °F   30.9 °F      62    30.05           0.00 \n",
              "2    12:09 AM     43.4 °F   32.0 °F      64    30.06           0.00 \n",
              "3    12:14 AM     41.6 °F   31.7 °F      68    30.05           0.00 \n",
              "4    12:19 AM     41.4 °F   31.7 °F      68    30.05           0.00 \n",
              "5    12:24 AM     41.5 °F   31.9 °F      68    30.05           0.00 \n",
              "..        ...         ...       ...      ...      ...            ...\n",
              "284  11:39 PM     57.6 °F   33.0 °F      39    29.82           0.00 \n",
              "285  11:44 PM     57.3 °F   32.8 °F      39    29.81           0.00 \n",
              "286  11:49 PM     57.4 °F   32.7 °F      39    29.81           0.00 \n",
              "287  11:54 PM     56.9 °F   32.9 °F      40    29.81           0.00 \n",
              "288  11:59 PM     56.8 °F   32.6 °F      40    29.81           0.00 \n",
              "\n",
              "[288 rows x 6 columns]"
            ],
            "text/html": [
              "\n",
              "  <div id=\"df-1d3eccb4-fba2-4010-8d57-b9c92aa4bbfb\">\n",
              "    <div class=\"colab-df-container\">\n",
              "      <div>\n",
              "<style scoped>\n",
              "    .dataframe tbody tr th:only-of-type {\n",
              "        vertical-align: middle;\n",
              "    }\n",
              "\n",
              "    .dataframe tbody tr th {\n",
              "        vertical-align: top;\n",
              "    }\n",
              "\n",
              "    .dataframe thead th {\n",
              "        text-align: right;\n",
              "    }\n",
              "</style>\n",
              "<table border=\"1\" class=\"dataframe\">\n",
              "  <thead>\n",
              "    <tr style=\"text-align: right;\">\n",
              "      <th></th>\n",
              "      <th>Time</th>\n",
              "      <th>Temperature</th>\n",
              "      <th>Dew Point</th>\n",
              "      <th>Humidity</th>\n",
              "      <th>Pressure</th>\n",
              "      <th>Precip. Accum.</th>\n",
              "    </tr>\n",
              "  </thead>\n",
              "  <tbody>\n",
              "    <tr>\n",
              "      <th>1</th>\n",
              "      <td>12:04 AM</td>\n",
              "      <td>42.9 °F</td>\n",
              "      <td>30.9 °F</td>\n",
              "      <td>62</td>\n",
              "      <td>30.05</td>\n",
              "      <td>0.00</td>\n",
              "    </tr>\n",
              "    <tr>\n",
              "      <th>2</th>\n",
              "      <td>12:09 AM</td>\n",
              "      <td>43.4 °F</td>\n",
              "      <td>32.0 °F</td>\n",
              "      <td>64</td>\n",
              "      <td>30.06</td>\n",
              "      <td>0.00</td>\n",
              "    </tr>\n",
              "    <tr>\n",
              "      <th>3</th>\n",
              "      <td>12:14 AM</td>\n",
              "      <td>41.6 °F</td>\n",
              "      <td>31.7 °F</td>\n",
              "      <td>68</td>\n",
              "      <td>30.05</td>\n",
              "      <td>0.00</td>\n",
              "    </tr>\n",
              "    <tr>\n",
              "      <th>4</th>\n",
              "      <td>12:19 AM</td>\n",
              "      <td>41.4 °F</td>\n",
              "      <td>31.7 °F</td>\n",
              "      <td>68</td>\n",
              "      <td>30.05</td>\n",
              "      <td>0.00</td>\n",
              "    </tr>\n",
              "    <tr>\n",
              "      <th>5</th>\n",
              "      <td>12:24 AM</td>\n",
              "      <td>41.5 °F</td>\n",
              "      <td>31.9 °F</td>\n",
              "      <td>68</td>\n",
              "      <td>30.05</td>\n",
              "      <td>0.00</td>\n",
              "    </tr>\n",
              "    <tr>\n",
              "      <th>...</th>\n",
              "      <td>...</td>\n",
              "      <td>...</td>\n",
              "      <td>...</td>\n",
              "      <td>...</td>\n",
              "      <td>...</td>\n",
              "      <td>...</td>\n",
              "    </tr>\n",
              "    <tr>\n",
              "      <th>284</th>\n",
              "      <td>11:39 PM</td>\n",
              "      <td>57.6 °F</td>\n",
              "      <td>33.0 °F</td>\n",
              "      <td>39</td>\n",
              "      <td>29.82</td>\n",
              "      <td>0.00</td>\n",
              "    </tr>\n",
              "    <tr>\n",
              "      <th>285</th>\n",
              "      <td>11:44 PM</td>\n",
              "      <td>57.3 °F</td>\n",
              "      <td>32.8 °F</td>\n",
              "      <td>39</td>\n",
              "      <td>29.81</td>\n",
              "      <td>0.00</td>\n",
              "    </tr>\n",
              "    <tr>\n",
              "      <th>286</th>\n",
              "      <td>11:49 PM</td>\n",
              "      <td>57.4 °F</td>\n",
              "      <td>32.7 °F</td>\n",
              "      <td>39</td>\n",
              "      <td>29.81</td>\n",
              "      <td>0.00</td>\n",
              "    </tr>\n",
              "    <tr>\n",
              "      <th>287</th>\n",
              "      <td>11:54 PM</td>\n",
              "      <td>56.9 °F</td>\n",
              "      <td>32.9 °F</td>\n",
              "      <td>40</td>\n",
              "      <td>29.81</td>\n",
              "      <td>0.00</td>\n",
              "    </tr>\n",
              "    <tr>\n",
              "      <th>288</th>\n",
              "      <td>11:59 PM</td>\n",
              "      <td>56.8 °F</td>\n",
              "      <td>32.6 °F</td>\n",
              "      <td>40</td>\n",
              "      <td>29.81</td>\n",
              "      <td>0.00</td>\n",
              "    </tr>\n",
              "  </tbody>\n",
              "</table>\n",
              "<p>288 rows × 6 columns</p>\n",
              "</div>\n",
              "      <button class=\"colab-df-convert\" onclick=\"convertToInteractive('df-1d3eccb4-fba2-4010-8d57-b9c92aa4bbfb')\"\n",
              "              title=\"Convert this dataframe to an interactive table.\"\n",
              "              style=\"display:none;\">\n",
              "        \n",
              "  <svg xmlns=\"http://www.w3.org/2000/svg\" height=\"24px\"viewBox=\"0 0 24 24\"\n",
              "       width=\"24px\">\n",
              "    <path d=\"M0 0h24v24H0V0z\" fill=\"none\"/>\n",
              "    <path d=\"M18.56 5.44l.94 2.06.94-2.06 2.06-.94-2.06-.94-.94-2.06-.94 2.06-2.06.94zm-11 1L8.5 8.5l.94-2.06 2.06-.94-2.06-.94L8.5 2.5l-.94 2.06-2.06.94zm10 10l.94 2.06.94-2.06 2.06-.94-2.06-.94-.94-2.06-.94 2.06-2.06.94z\"/><path d=\"M17.41 7.96l-1.37-1.37c-.4-.4-.92-.59-1.43-.59-.52 0-1.04.2-1.43.59L10.3 9.45l-7.72 7.72c-.78.78-.78 2.05 0 2.83L4 21.41c.39.39.9.59 1.41.59.51 0 1.02-.2 1.41-.59l7.78-7.78 2.81-2.81c.8-.78.8-2.07 0-2.86zM5.41 20L4 18.59l7.72-7.72 1.47 1.35L5.41 20z\"/>\n",
              "  </svg>\n",
              "      </button>\n",
              "      \n",
              "  <style>\n",
              "    .colab-df-container {\n",
              "      display:flex;\n",
              "      flex-wrap:wrap;\n",
              "      gap: 12px;\n",
              "    }\n",
              "\n",
              "    .colab-df-convert {\n",
              "      background-color: #E8F0FE;\n",
              "      border: none;\n",
              "      border-radius: 50%;\n",
              "      cursor: pointer;\n",
              "      display: none;\n",
              "      fill: #1967D2;\n",
              "      height: 32px;\n",
              "      padding: 0 0 0 0;\n",
              "      width: 32px;\n",
              "    }\n",
              "\n",
              "    .colab-df-convert:hover {\n",
              "      background-color: #E2EBFA;\n",
              "      box-shadow: 0px 1px 2px rgba(60, 64, 67, 0.3), 0px 1px 3px 1px rgba(60, 64, 67, 0.15);\n",
              "      fill: #174EA6;\n",
              "    }\n",
              "\n",
              "    [theme=dark] .colab-df-convert {\n",
              "      background-color: #3B4455;\n",
              "      fill: #D2E3FC;\n",
              "    }\n",
              "\n",
              "    [theme=dark] .colab-df-convert:hover {\n",
              "      background-color: #434B5C;\n",
              "      box-shadow: 0px 1px 3px 1px rgba(0, 0, 0, 0.15);\n",
              "      filter: drop-shadow(0px 1px 2px rgba(0, 0, 0, 0.3));\n",
              "      fill: #FFFFFF;\n",
              "    }\n",
              "  </style>\n",
              "\n",
              "      <script>\n",
              "        const buttonEl =\n",
              "          document.querySelector('#df-1d3eccb4-fba2-4010-8d57-b9c92aa4bbfb button.colab-df-convert');\n",
              "        buttonEl.style.display =\n",
              "          google.colab.kernel.accessAllowed ? 'block' : 'none';\n",
              "\n",
              "        async function convertToInteractive(key) {\n",
              "          const element = document.querySelector('#df-1d3eccb4-fba2-4010-8d57-b9c92aa4bbfb');\n",
              "          const dataTable =\n",
              "            await google.colab.kernel.invokeFunction('convertToInteractive',\n",
              "                                                     [key], {});\n",
              "          if (!dataTable) return;\n",
              "\n",
              "          const docLinkHtml = 'Like what you see? Visit the ' +\n",
              "            '<a target=\"_blank\" href=https://colab.research.google.com/notebooks/data_table.ipynb>data table notebook</a>'\n",
              "            + ' to learn more about interactive tables.';\n",
              "          element.innerHTML = '';\n",
              "          dataTable['output_type'] = 'display_data';\n",
              "          await google.colab.output.renderOutput(dataTable, element);\n",
              "          const docLink = document.createElement('div');\n",
              "          docLink.innerHTML = docLinkHtml;\n",
              "          element.appendChild(docLink);\n",
              "        }\n",
              "      </script>\n",
              "    </div>\n",
              "  </div>\n",
              "  "
            ]
          },
          "metadata": {},
          "execution_count": 44
        }
      ]
    },
    {
      "cell_type": "code",
      "source": [
        "files.download()"
      ],
      "metadata": {
        "colab": {
          "base_uri": "https://localhost:8080/",
          "height": 166
        },
        "id": "meyGXyvadA_d",
        "outputId": "15fafa40-fc01-453b-853e-920056f01ac9"
      },
      "execution_count": null,
      "outputs": [
        {
          "output_type": "error",
          "ename": "TypeError",
          "evalue": "ignored",
          "traceback": [
            "\u001b[0;31m---------------------------------------------------------------------------\u001b[0m",
            "\u001b[0;31mTypeError\u001b[0m                                 Traceback (most recent call last)",
            "\u001b[0;32m<ipython-input-79-8c6fcd61cd05>\u001b[0m in \u001b[0;36m<module>\u001b[0;34m()\u001b[0m\n\u001b[0;32m----> 1\u001b[0;31m \u001b[0mfiles\u001b[0m\u001b[0;34m.\u001b[0m\u001b[0mdownload\u001b[0m\u001b[0;34m(\u001b[0m\u001b[0;34m)\u001b[0m\u001b[0;34m\u001b[0m\u001b[0;34m\u001b[0m\u001b[0m\n\u001b[0m",
            "\u001b[0;31mTypeError\u001b[0m: download() missing 1 required positional argument: 'filename'"
          ]
        }
      ]
    }
  ]
}