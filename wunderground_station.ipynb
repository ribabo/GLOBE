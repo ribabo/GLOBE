{
  "nbformat": 4,
  "nbformat_minor": 0,
  "metadata": {
    "colab": {
      "name": "wunderground_station",
      "provenance": [],
      "collapsed_sections": []
    },
    "kernelspec": {
      "name": "python3",
      "display_name": "Python 3"
    },
    "language_info": {
      "name": "python"
    }
  },
  "cells": [
    {
      "cell_type": "markdown",
      "source": [
        "Početak 2020-02-18"
      ],
      "metadata": {
        "id": "7SFa_AzXHS1I"
      }
    },
    {
      "cell_type": "code",
      "execution_count": 8,
      "metadata": {
        "id": "X_21rLZoZaNm"
      },
      "outputs": [],
      "source": [
        "import pandas as pd\n",
        "from pandas import DataFrame as df\n",
        "import numpy as np\n",
        "from google.colab import files\n",
        "import datetime\n",
        "import copy\n",
        "import csv"
      ]
    },
    {
      "cell_type": "code",
      "source": [
        "from pandas.core.frame import DataFrame\n",
        "start_date=\"2021-10-05\"\n",
        "end_date=\"2021-10-10\"\n",
        "wunderground_station_id=\"IPTUJ11\"\n",
        "station_id=\"DUDU1234\"\n",
        "\n",
        "range_of_dates=pd.date_range(start=start_date, end=end_date)\n",
        "range_of_dates=list(map(lambda x: str(x)[:10],range_of_dates))"
      ],
      "metadata": {
        "id": "X1beVWcOahBV"
      },
      "execution_count": 2,
      "outputs": []
    },
    {
      "cell_type": "code",
      "source": [
        "def colecting_data(range_of_dates,wunderground_station_id):\n",
        "  final_file=pd.DataFrame(columns=['DateTime', 'Date','Time', 'Temperature', 'Dew Point', 'Humidity', 'Wind', 'Speed', 'Gust', 'Pressure', 'Precip. Rate.', 'Precip. Accum.', 'UV', 'Solar'])\n",
        "  for measurement_date in range_of_dates:\n",
        "    url=f\"https://www.wunderground.com/dashboard/pws/{wunderground_station_id}/table/{measurement_date}/{measurement_date}/daily\"\n",
        "    dfs = pd.read_html(url,match=\"Precip. Rate.\")\n",
        "    data = pd.concat(dfs)\n",
        "    data.dropna(inplace = True)\n",
        "    data.insert(0, 'Date', measurement_date)\n",
        "    final_file=pd.concat([final_file, data], ignore_index=True)\n",
        "\n",
        "  return final_file\n"
      ],
      "metadata": {
        "id": "PfDUIkPLaVOg"
      },
      "execution_count": 3,
      "outputs": []
    },
    {
      "cell_type": "code",
      "source": [
        "raw_data=colecting_data(range_of_dates, wunderground_station_id)\n",
        "raw_data.to_csv(f\"{wunderground_station_id}_{start_date}_{end_date}\")"
      ],
      "metadata": {
        "id": "plECP5Y_YcDP"
      },
      "execution_count": 4,
      "outputs": []
    },
    {
      "cell_type": "code",
      "source": [
        "data=copy.deepcopy(raw_data)"
      ],
      "metadata": {
        "id": "qOqHFMBel0Bi"
      },
      "execution_count": 5,
      "outputs": []
    },
    {
      "cell_type": "code",
      "source": [
        "data=data.replace(to_replace=r'°F', value='', regex=True)\n",
        "data=data.replace(to_replace=r'°%', value='', regex=True)\n",
        "data=data.replace(to_replace=r'°in', value='', regex=True)\n",
        "data=data[['Date', 'Time', 'Temperature', 'Dew Point', 'Humidity', 'Pressure', 'Precip. Accum.']]\n",
        "data['Temperature']=data['Temperature'].map(lambda x: round((((float(x)-32) * 5)/9),1))\n",
        "data['Dew Point']=data['Dew Point'].map(lambda x: round((((float(x)-32) * 5)/9),1))\n",
        "data['Pressure']=data['Pressure'].map(lambda x: round((float(x)*33.8639),1))\n",
        "data['Precip. Accum.']=data['Precip. Accum.'].map(lambda x: round((float(x)*25.4),1))\n",
        "data.insert(0, 'UTC DateTime', '')\n",
        "data['UTC DateTime'] = (pd.to_datetime(data['Date'] + \" \" + data['Time'], format='%Y-%m-%d %I:%M %p')-datetime.timedelta(hours=2)).dt.strftime('%Y%m%d%H%M')\n",
        "data['Date']=data['UTC DateTime'].map(lambda x: x[:-4])\n",
        "data['Time']=data['UTC DateTime'].map(lambda x: x[8:])\n",
        "data\n",
        "\n"
      ],
      "metadata": {
        "id": "n5inc_8QAJuT",
        "colab": {
          "base_uri": "https://localhost:8080/",
          "height": 424
        },
        "outputId": "7675e7ea-2822-4afa-b88f-4a04e94059c4"
      },
      "execution_count": 6,
      "outputs": [
        {
          "output_type": "execute_result",
          "data": {
            "text/plain": [
              "      UTC DateTime      Date  Time  Temperature  Dew Point Humidity  Pressure  \\\n",
              "0     202110042219  20211004  2219         14.0       12.6      91     1011.2   \n",
              "1     202110042220  20211004  2220         13.6       11.9      90     1011.2   \n",
              "2     202110042229  20211004  2229         13.5       12.3      92     1011.2   \n",
              "3     202110042232  20211004  2232         13.4       12.2      92     1011.2   \n",
              "4     202110042244  20211004  2244         13.2       11.9      92     1011.2   \n",
              "...            ...       ...   ...          ...        ...      ...       ...   \n",
              "1308  202110102131  20211010  2131          6.6        5.6      94     1017.3   \n",
              "1309  202110102139  20211010  2139          6.7        5.6      93     1017.3   \n",
              "1310  202110102143  20211010  2143          6.7        5.6      93     1017.3   \n",
              "1311  202110102154  20211010  2154          6.7        5.6      93     1017.3   \n",
              "1312  202110102155  20211010  2155          6.7        5.6      93     1016.9   \n",
              "\n",
              "      Precip. Accum.  \n",
              "0                0.0  \n",
              "1                0.0  \n",
              "2                0.0  \n",
              "3                0.0  \n",
              "4                0.0  \n",
              "...              ...  \n",
              "1308            15.0  \n",
              "1309            15.0  \n",
              "1310            15.2  \n",
              "1311            15.2  \n",
              "1312            15.2  \n",
              "\n",
              "[1313 rows x 8 columns]"
            ],
            "text/html": [
              "\n",
              "  <div id=\"df-7fc46a87-d5f4-4a61-b9f5-586ff80030be\">\n",
              "    <div class=\"colab-df-container\">\n",
              "      <div>\n",
              "<style scoped>\n",
              "    .dataframe tbody tr th:only-of-type {\n",
              "        vertical-align: middle;\n",
              "    }\n",
              "\n",
              "    .dataframe tbody tr th {\n",
              "        vertical-align: top;\n",
              "    }\n",
              "\n",
              "    .dataframe thead th {\n",
              "        text-align: right;\n",
              "    }\n",
              "</style>\n",
              "<table border=\"1\" class=\"dataframe\">\n",
              "  <thead>\n",
              "    <tr style=\"text-align: right;\">\n",
              "      <th></th>\n",
              "      <th>UTC DateTime</th>\n",
              "      <th>Date</th>\n",
              "      <th>Time</th>\n",
              "      <th>Temperature</th>\n",
              "      <th>Dew Point</th>\n",
              "      <th>Humidity</th>\n",
              "      <th>Pressure</th>\n",
              "      <th>Precip. Accum.</th>\n",
              "    </tr>\n",
              "  </thead>\n",
              "  <tbody>\n",
              "    <tr>\n",
              "      <th>0</th>\n",
              "      <td>202110042219</td>\n",
              "      <td>20211004</td>\n",
              "      <td>2219</td>\n",
              "      <td>14.0</td>\n",
              "      <td>12.6</td>\n",
              "      <td>91</td>\n",
              "      <td>1011.2</td>\n",
              "      <td>0.0</td>\n",
              "    </tr>\n",
              "    <tr>\n",
              "      <th>1</th>\n",
              "      <td>202110042220</td>\n",
              "      <td>20211004</td>\n",
              "      <td>2220</td>\n",
              "      <td>13.6</td>\n",
              "      <td>11.9</td>\n",
              "      <td>90</td>\n",
              "      <td>1011.2</td>\n",
              "      <td>0.0</td>\n",
              "    </tr>\n",
              "    <tr>\n",
              "      <th>2</th>\n",
              "      <td>202110042229</td>\n",
              "      <td>20211004</td>\n",
              "      <td>2229</td>\n",
              "      <td>13.5</td>\n",
              "      <td>12.3</td>\n",
              "      <td>92</td>\n",
              "      <td>1011.2</td>\n",
              "      <td>0.0</td>\n",
              "    </tr>\n",
              "    <tr>\n",
              "      <th>3</th>\n",
              "      <td>202110042232</td>\n",
              "      <td>20211004</td>\n",
              "      <td>2232</td>\n",
              "      <td>13.4</td>\n",
              "      <td>12.2</td>\n",
              "      <td>92</td>\n",
              "      <td>1011.2</td>\n",
              "      <td>0.0</td>\n",
              "    </tr>\n",
              "    <tr>\n",
              "      <th>4</th>\n",
              "      <td>202110042244</td>\n",
              "      <td>20211004</td>\n",
              "      <td>2244</td>\n",
              "      <td>13.2</td>\n",
              "      <td>11.9</td>\n",
              "      <td>92</td>\n",
              "      <td>1011.2</td>\n",
              "      <td>0.0</td>\n",
              "    </tr>\n",
              "    <tr>\n",
              "      <th>...</th>\n",
              "      <td>...</td>\n",
              "      <td>...</td>\n",
              "      <td>...</td>\n",
              "      <td>...</td>\n",
              "      <td>...</td>\n",
              "      <td>...</td>\n",
              "      <td>...</td>\n",
              "      <td>...</td>\n",
              "    </tr>\n",
              "    <tr>\n",
              "      <th>1308</th>\n",
              "      <td>202110102131</td>\n",
              "      <td>20211010</td>\n",
              "      <td>2131</td>\n",
              "      <td>6.6</td>\n",
              "      <td>5.6</td>\n",
              "      <td>94</td>\n",
              "      <td>1017.3</td>\n",
              "      <td>15.0</td>\n",
              "    </tr>\n",
              "    <tr>\n",
              "      <th>1309</th>\n",
              "      <td>202110102139</td>\n",
              "      <td>20211010</td>\n",
              "      <td>2139</td>\n",
              "      <td>6.7</td>\n",
              "      <td>5.6</td>\n",
              "      <td>93</td>\n",
              "      <td>1017.3</td>\n",
              "      <td>15.0</td>\n",
              "    </tr>\n",
              "    <tr>\n",
              "      <th>1310</th>\n",
              "      <td>202110102143</td>\n",
              "      <td>20211010</td>\n",
              "      <td>2143</td>\n",
              "      <td>6.7</td>\n",
              "      <td>5.6</td>\n",
              "      <td>93</td>\n",
              "      <td>1017.3</td>\n",
              "      <td>15.2</td>\n",
              "    </tr>\n",
              "    <tr>\n",
              "      <th>1311</th>\n",
              "      <td>202110102154</td>\n",
              "      <td>20211010</td>\n",
              "      <td>2154</td>\n",
              "      <td>6.7</td>\n",
              "      <td>5.6</td>\n",
              "      <td>93</td>\n",
              "      <td>1017.3</td>\n",
              "      <td>15.2</td>\n",
              "    </tr>\n",
              "    <tr>\n",
              "      <th>1312</th>\n",
              "      <td>202110102155</td>\n",
              "      <td>20211010</td>\n",
              "      <td>2155</td>\n",
              "      <td>6.7</td>\n",
              "      <td>5.6</td>\n",
              "      <td>93</td>\n",
              "      <td>1016.9</td>\n",
              "      <td>15.2</td>\n",
              "    </tr>\n",
              "  </tbody>\n",
              "</table>\n",
              "<p>1313 rows × 8 columns</p>\n",
              "</div>\n",
              "      <button class=\"colab-df-convert\" onclick=\"convertToInteractive('df-7fc46a87-d5f4-4a61-b9f5-586ff80030be')\"\n",
              "              title=\"Convert this dataframe to an interactive table.\"\n",
              "              style=\"display:none;\">\n",
              "        \n",
              "  <svg xmlns=\"http://www.w3.org/2000/svg\" height=\"24px\"viewBox=\"0 0 24 24\"\n",
              "       width=\"24px\">\n",
              "    <path d=\"M0 0h24v24H0V0z\" fill=\"none\"/>\n",
              "    <path d=\"M18.56 5.44l.94 2.06.94-2.06 2.06-.94-2.06-.94-.94-2.06-.94 2.06-2.06.94zm-11 1L8.5 8.5l.94-2.06 2.06-.94-2.06-.94L8.5 2.5l-.94 2.06-2.06.94zm10 10l.94 2.06.94-2.06 2.06-.94-2.06-.94-.94-2.06-.94 2.06-2.06.94z\"/><path d=\"M17.41 7.96l-1.37-1.37c-.4-.4-.92-.59-1.43-.59-.52 0-1.04.2-1.43.59L10.3 9.45l-7.72 7.72c-.78.78-.78 2.05 0 2.83L4 21.41c.39.39.9.59 1.41.59.51 0 1.02-.2 1.41-.59l7.78-7.78 2.81-2.81c.8-.78.8-2.07 0-2.86zM5.41 20L4 18.59l7.72-7.72 1.47 1.35L5.41 20z\"/>\n",
              "  </svg>\n",
              "      </button>\n",
              "      \n",
              "  <style>\n",
              "    .colab-df-container {\n",
              "      display:flex;\n",
              "      flex-wrap:wrap;\n",
              "      gap: 12px;\n",
              "    }\n",
              "\n",
              "    .colab-df-convert {\n",
              "      background-color: #E8F0FE;\n",
              "      border: none;\n",
              "      border-radius: 50%;\n",
              "      cursor: pointer;\n",
              "      display: none;\n",
              "      fill: #1967D2;\n",
              "      height: 32px;\n",
              "      padding: 0 0 0 0;\n",
              "      width: 32px;\n",
              "    }\n",
              "\n",
              "    .colab-df-convert:hover {\n",
              "      background-color: #E2EBFA;\n",
              "      box-shadow: 0px 1px 2px rgba(60, 64, 67, 0.3), 0px 1px 3px 1px rgba(60, 64, 67, 0.15);\n",
              "      fill: #174EA6;\n",
              "    }\n",
              "\n",
              "    [theme=dark] .colab-df-convert {\n",
              "      background-color: #3B4455;\n",
              "      fill: #D2E3FC;\n",
              "    }\n",
              "\n",
              "    [theme=dark] .colab-df-convert:hover {\n",
              "      background-color: #434B5C;\n",
              "      box-shadow: 0px 1px 3px 1px rgba(0, 0, 0, 0.15);\n",
              "      filter: drop-shadow(0px 1px 2px rgba(0, 0, 0, 0.3));\n",
              "      fill: #FFFFFF;\n",
              "    }\n",
              "  </style>\n",
              "\n",
              "      <script>\n",
              "        const buttonEl =\n",
              "          document.querySelector('#df-7fc46a87-d5f4-4a61-b9f5-586ff80030be button.colab-df-convert');\n",
              "        buttonEl.style.display =\n",
              "          google.colab.kernel.accessAllowed ? 'block' : 'none';\n",
              "\n",
              "        async function convertToInteractive(key) {\n",
              "          const element = document.querySelector('#df-7fc46a87-d5f4-4a61-b9f5-586ff80030be');\n",
              "          const dataTable =\n",
              "            await google.colab.kernel.invokeFunction('convertToInteractive',\n",
              "                                                     [key], {});\n",
              "          if (!dataTable) return;\n",
              "\n",
              "          const docLinkHtml = 'Like what you see? Visit the ' +\n",
              "            '<a target=\"_blank\" href=https://colab.research.google.com/notebooks/data_table.ipynb>data table notebook</a>'\n",
              "            + ' to learn more about interactive tables.';\n",
              "          element.innerHTML = '';\n",
              "          dataTable['output_type'] = 'display_data';\n",
              "          await google.colab.output.renderOutput(dataTable, element);\n",
              "          const docLink = document.createElement('div');\n",
              "          docLink.innerHTML = docLinkHtml;\n",
              "          element.appendChild(docLink);\n",
              "        }\n",
              "      </script>\n",
              "    </div>\n",
              "  </div>\n",
              "  "
            ]
          },
          "metadata": {},
          "execution_count": 6
        }
      ]
    },
    {
      "cell_type": "markdown",
      "source": [
        "#Precipitation"
      ],
      "metadata": {
        "id": "oQzksgqMdRxp"
      }
    },
    {
      "cell_type": "code",
      "source": [
        "daily_precipitation=data['Precip. Accum.'].sum()\n",
        "if daily_precipitation < 0.5:\n",
        "  daily_precipitation= 'T'"
      ],
      "metadata": {
        "id": "JDgdDax9KzeU"
      },
      "execution_count": null,
      "outputs": []
    },
    {
      "cell_type": "markdown",
      "source": [
        "\n",
        "\n",
        "```\n",
        "# This is formatted as code\n",
        "```\n",
        "\n"
      ],
      "metadata": {
        "id": "E4xneVRbdI0k"
      }
    },
    {
      "cell_type": "code",
      "source": [
        "precipitation_data=data.pivot_table(index='Date', values='Precip. Accum.', aggfunc=np.max)\n",
        "precipitation_data['Precip. Accum.']\n",
        "\n"
      ],
      "metadata": {
        "colab": {
          "base_uri": "https://localhost:8080/",
          "height": 300
        },
        "id": "nS3fAPq_VGE7",
        "outputId": "e5dfd623-25e9-40f6-b6a0-adeeba034997"
      },
      "execution_count": 29,
      "outputs": [
        {
          "output_type": "execute_result",
          "data": {
            "text/plain": [
              "          Precip. Accum.\n",
              "Date                    \n",
              "20211004             0.0\n",
              "20211005             0.0\n",
              "20211006            58.9\n",
              "20211007            44.7\n",
              "20211008             1.3\n",
              "20211009             0.0\n",
              "20211010            15.2"
            ],
            "text/html": [
              "\n",
              "  <div id=\"df-069d83f0-f771-45e2-8002-5c53bfa3f9f3\">\n",
              "    <div class=\"colab-df-container\">\n",
              "      <div>\n",
              "<style scoped>\n",
              "    .dataframe tbody tr th:only-of-type {\n",
              "        vertical-align: middle;\n",
              "    }\n",
              "\n",
              "    .dataframe tbody tr th {\n",
              "        vertical-align: top;\n",
              "    }\n",
              "\n",
              "    .dataframe thead th {\n",
              "        text-align: right;\n",
              "    }\n",
              "</style>\n",
              "<table border=\"1\" class=\"dataframe\">\n",
              "  <thead>\n",
              "    <tr style=\"text-align: right;\">\n",
              "      <th></th>\n",
              "      <th>Precip. Accum.</th>\n",
              "    </tr>\n",
              "    <tr>\n",
              "      <th>Date</th>\n",
              "      <th></th>\n",
              "    </tr>\n",
              "  </thead>\n",
              "  <tbody>\n",
              "    <tr>\n",
              "      <th>20211004</th>\n",
              "      <td>0.0</td>\n",
              "    </tr>\n",
              "    <tr>\n",
              "      <th>20211005</th>\n",
              "      <td>0.0</td>\n",
              "    </tr>\n",
              "    <tr>\n",
              "      <th>20211006</th>\n",
              "      <td>58.9</td>\n",
              "    </tr>\n",
              "    <tr>\n",
              "      <th>20211007</th>\n",
              "      <td>44.7</td>\n",
              "    </tr>\n",
              "    <tr>\n",
              "      <th>20211008</th>\n",
              "      <td>1.3</td>\n",
              "    </tr>\n",
              "    <tr>\n",
              "      <th>20211009</th>\n",
              "      <td>0.0</td>\n",
              "    </tr>\n",
              "    <tr>\n",
              "      <th>20211010</th>\n",
              "      <td>15.2</td>\n",
              "    </tr>\n",
              "  </tbody>\n",
              "</table>\n",
              "</div>\n",
              "      <button class=\"colab-df-convert\" onclick=\"convertToInteractive('df-069d83f0-f771-45e2-8002-5c53bfa3f9f3')\"\n",
              "              title=\"Convert this dataframe to an interactive table.\"\n",
              "              style=\"display:none;\">\n",
              "        \n",
              "  <svg xmlns=\"http://www.w3.org/2000/svg\" height=\"24px\"viewBox=\"0 0 24 24\"\n",
              "       width=\"24px\">\n",
              "    <path d=\"M0 0h24v24H0V0z\" fill=\"none\"/>\n",
              "    <path d=\"M18.56 5.44l.94 2.06.94-2.06 2.06-.94-2.06-.94-.94-2.06-.94 2.06-2.06.94zm-11 1L8.5 8.5l.94-2.06 2.06-.94-2.06-.94L8.5 2.5l-.94 2.06-2.06.94zm10 10l.94 2.06.94-2.06 2.06-.94-2.06-.94-.94-2.06-.94 2.06-2.06.94z\"/><path d=\"M17.41 7.96l-1.37-1.37c-.4-.4-.92-.59-1.43-.59-.52 0-1.04.2-1.43.59L10.3 9.45l-7.72 7.72c-.78.78-.78 2.05 0 2.83L4 21.41c.39.39.9.59 1.41.59.51 0 1.02-.2 1.41-.59l7.78-7.78 2.81-2.81c.8-.78.8-2.07 0-2.86zM5.41 20L4 18.59l7.72-7.72 1.47 1.35L5.41 20z\"/>\n",
              "  </svg>\n",
              "      </button>\n",
              "      \n",
              "  <style>\n",
              "    .colab-df-container {\n",
              "      display:flex;\n",
              "      flex-wrap:wrap;\n",
              "      gap: 12px;\n",
              "    }\n",
              "\n",
              "    .colab-df-convert {\n",
              "      background-color: #E8F0FE;\n",
              "      border: none;\n",
              "      border-radius: 50%;\n",
              "      cursor: pointer;\n",
              "      display: none;\n",
              "      fill: #1967D2;\n",
              "      height: 32px;\n",
              "      padding: 0 0 0 0;\n",
              "      width: 32px;\n",
              "    }\n",
              "\n",
              "    .colab-df-convert:hover {\n",
              "      background-color: #E2EBFA;\n",
              "      box-shadow: 0px 1px 2px rgba(60, 64, 67, 0.3), 0px 1px 3px 1px rgba(60, 64, 67, 0.15);\n",
              "      fill: #174EA6;\n",
              "    }\n",
              "\n",
              "    [theme=dark] .colab-df-convert {\n",
              "      background-color: #3B4455;\n",
              "      fill: #D2E3FC;\n",
              "    }\n",
              "\n",
              "    [theme=dark] .colab-df-convert:hover {\n",
              "      background-color: #434B5C;\n",
              "      box-shadow: 0px 1px 3px 1px rgba(0, 0, 0, 0.15);\n",
              "      filter: drop-shadow(0px 1px 2px rgba(0, 0, 0, 0.3));\n",
              "      fill: #FFFFFF;\n",
              "    }\n",
              "  </style>\n",
              "\n",
              "      <script>\n",
              "        const buttonEl =\n",
              "          document.querySelector('#df-069d83f0-f771-45e2-8002-5c53bfa3f9f3 button.colab-df-convert');\n",
              "        buttonEl.style.display =\n",
              "          google.colab.kernel.accessAllowed ? 'block' : 'none';\n",
              "\n",
              "        async function convertToInteractive(key) {\n",
              "          const element = document.querySelector('#df-069d83f0-f771-45e2-8002-5c53bfa3f9f3');\n",
              "          const dataTable =\n",
              "            await google.colab.kernel.invokeFunction('convertToInteractive',\n",
              "                                                     [key], {});\n",
              "          if (!dataTable) return;\n",
              "\n",
              "          const docLinkHtml = 'Like what you see? Visit the ' +\n",
              "            '<a target=\"_blank\" href=https://colab.research.google.com/notebooks/data_table.ipynb>data table notebook</a>'\n",
              "            + ' to learn more about interactive tables.';\n",
              "          element.innerHTML = '';\n",
              "          dataTable['output_type'] = 'display_data';\n",
              "          await google.colab.output.renderOutput(dataTable, element);\n",
              "          const docLink = document.createElement('div');\n",
              "          docLink.innerHTML = docLinkHtml;\n",
              "          element.appendChild(docLink);\n",
              "        }\n",
              "      </script>\n",
              "    </div>\n",
              "  </div>\n",
              "  "
            ]
          },
          "metadata": {},
          "execution_count": 29
        }
      ]
    },
    {
      "cell_type": "code",
      "source": [
        "for measurement_time, temperature in zip(data['Time'], data['Temperature']):\n",
        "    print(f\"PR {station_id} 1 {measurement_time[:-4]}2155 {daily_precipitation} 1 X X\")\n"
      ],
      "metadata": {
        "id": "dQqv3d78Luiz"
      },
      "execution_count": null,
      "outputs": []
    },
    {
      "cell_type": "markdown",
      "source": [
        "#Temperature"
      ],
      "metadata": {
        "id": "KvdivVm3dL-L"
      }
    },
    {
      "cell_type": "code",
      "source": [
        "def export_temperature(data):\n",
        "  with open(\"temperature.txt\", \"w\") as f1:       \n",
        "    for measurement_time, temperature in zip(data['Time'], data['Temperature']):\n",
        "      f1.write(f\"ATMNN {station_id} 01 {measurement_time} {temperature}\\n\")"
      ],
      "metadata": {
        "id": "FkE21sIFU-d6"
      },
      "execution_count": 26,
      "outputs": []
    },
    {
      "cell_type": "markdown",
      "source": [
        "#Pressure"
      ],
      "metadata": {
        "id": "EvvAkY6kdWih"
      }
    },
    {
      "cell_type": "code",
      "source": [
        "def export_pressure(data):\n",
        "  with open(\"pressure.txt\", \"w\") as f1:       \n",
        "    for measurement_time, pressure in zip(data['Time'], data['Pressure']):\n",
        "      f1.write(f\"BP {station_id} 01 {measurement_time} 1 {pressure}\\n\")"
      ],
      "metadata": {
        "id": "E-_dlTCPdY_z"
      },
      "execution_count": 27,
      "outputs": []
    },
    {
      "cell_type": "markdown",
      "source": [
        "#Humidity"
      ],
      "metadata": {
        "id": "E81ArZE4e1Aq"
      }
    },
    {
      "cell_type": "code",
      "source": [
        "def export_humidity(data):\n",
        "  with open(\"humidity.txt\", \"w\") as f1:       \n",
        "    for measurement_time, temperature, humidity in zip(data['Time'], data['Temperature'], data['Humidity']):\n",
        "      f1.write(f\"RH {station_id} 01 {measurement_time} D {temperature} X {humidity}\\n\")"
      ],
      "metadata": {
        "id": "t79zcpmUe3YM"
      },
      "execution_count": 28,
      "outputs": []
    },
    {
      "cell_type": "markdown",
      "source": [
        "#Other"
      ],
      "metadata": {
        "id": "KYhmD7bAe6ms"
      }
    },
    {
      "cell_type": "code",
      "source": [
        "files.download()"
      ],
      "metadata": {
        "id": "meyGXyvadA_d"
      },
      "execution_count": null,
      "outputs": []
    }
  ]
}